{
 "cells": [
  {
   "cell_type": "markdown",
   "id": "b076f2ff",
   "metadata": {},
   "source": [
    "## Importing the packages"
   ]
  },
  {
   "cell_type": "code",
   "execution_count": 138,
   "id": "90e35b2b",
   "metadata": {},
   "outputs": [],
   "source": [
    "import os\n",
    "import math\n",
    "import joblib\n",
    "import pandas as pd\n",
    "import numpy as np\n",
    "import seaborn as sns\n",
    "import matplotlib.pyplot as plt\n",
    "from sklearn.svm import SVC\n",
    "from sklearn.metrics import classification_report\n",
    "from sklearn.impute import SimpleImputer\n",
    "from dython.nominal import associations\n",
    "from sklearn.ensemble import IsolationForest\n",
    "from scipy.stats import zscore\n",
    "from sklearn.preprocessing import LabelEncoder\n",
    "from sklearn.decomposition import PCA\n",
    "from sklearn.preprocessing import OneHotEncoder, StandardScaler\n",
    "from sklearn.compose import ColumnTransformer\n",
    "from sklearn.pipeline import Pipeline\n",
    "from sklearn.ensemble import RandomForestClassifier\n",
    "from sklearn.model_selection import train_test_split, GridSearchCV\n",
    "from sklearn.utils.class_weight import compute_class_weight"
   ]
  },
  {
   "cell_type": "markdown",
   "id": "ce205918",
   "metadata": {},
   "source": [
    "## Reading the data"
   ]
  },
  {
   "cell_type": "code",
   "execution_count": 2,
   "id": "2e7c0b34",
   "metadata": {},
   "outputs": [],
   "source": [
    "data_dir = \".\""
   ]
  },
  {
   "cell_type": "code",
   "execution_count": 3,
   "id": "cc858176",
   "metadata": {},
   "outputs": [
    {
     "name": "stdout",
     "output_type": "stream",
     "text": [
      "['countries.csv', 'age_gender_bkts.csv', 'train_users_2.csv', 'test_users.csv', 'airbnb_data_raw.csv', 'sessions.csv']\n"
     ]
    }
   ],
   "source": [
    "data_files = [file for file in os.listdir(data_dir) if file.endswith('csv')]\n",
    "print(data_files)"
   ]
  },
  {
   "cell_type": "markdown",
   "id": "cbe1009e",
   "metadata": {},
   "source": [
    "### Train data"
   ]
  },
  {
   "cell_type": "code",
   "execution_count": 4,
   "id": "f2604774",
   "metadata": {},
   "outputs": [],
   "source": [
    "train_df = pd.read_csv(os.path.join(data_dir, \"train_users_2.csv\"), encoding=\"latin-1\")"
   ]
  },
  {
   "cell_type": "code",
   "execution_count": 5,
   "id": "eea92844",
   "metadata": {},
   "outputs": [
    {
     "data": {
      "text/html": [
       "<div>\n",
       "<style scoped>\n",
       "    .dataframe tbody tr th:only-of-type {\n",
       "        vertical-align: middle;\n",
       "    }\n",
       "\n",
       "    .dataframe tbody tr th {\n",
       "        vertical-align: top;\n",
       "    }\n",
       "\n",
       "    .dataframe thead th {\n",
       "        text-align: right;\n",
       "    }\n",
       "</style>\n",
       "<table border=\"1\" class=\"dataframe\">\n",
       "  <thead>\n",
       "    <tr style=\"text-align: right;\">\n",
       "      <th></th>\n",
       "      <th>id</th>\n",
       "      <th>date_account_created</th>\n",
       "      <th>timestamp_first_active</th>\n",
       "      <th>date_first_booking</th>\n",
       "      <th>gender</th>\n",
       "      <th>age</th>\n",
       "      <th>signup_method</th>\n",
       "      <th>signup_flow</th>\n",
       "      <th>language</th>\n",
       "      <th>affiliate_channel</th>\n",
       "      <th>affiliate_provider</th>\n",
       "      <th>first_affiliate_tracked</th>\n",
       "      <th>signup_app</th>\n",
       "      <th>first_device_type</th>\n",
       "      <th>first_browser</th>\n",
       "      <th>country_destination</th>\n",
       "    </tr>\n",
       "  </thead>\n",
       "  <tbody>\n",
       "    <tr>\n",
       "      <th>0</th>\n",
       "      <td>gxn3p5htnn</td>\n",
       "      <td>2010-06-28</td>\n",
       "      <td>20090319043255</td>\n",
       "      <td>NaN</td>\n",
       "      <td>-unknown-</td>\n",
       "      <td>NaN</td>\n",
       "      <td>facebook</td>\n",
       "      <td>0</td>\n",
       "      <td>en</td>\n",
       "      <td>direct</td>\n",
       "      <td>direct</td>\n",
       "      <td>untracked</td>\n",
       "      <td>Web</td>\n",
       "      <td>Mac Desktop</td>\n",
       "      <td>Chrome</td>\n",
       "      <td>NDF</td>\n",
       "    </tr>\n",
       "    <tr>\n",
       "      <th>1</th>\n",
       "      <td>820tgsjxq7</td>\n",
       "      <td>2011-05-25</td>\n",
       "      <td>20090523174809</td>\n",
       "      <td>NaN</td>\n",
       "      <td>MALE</td>\n",
       "      <td>38.0</td>\n",
       "      <td>facebook</td>\n",
       "      <td>0</td>\n",
       "      <td>en</td>\n",
       "      <td>seo</td>\n",
       "      <td>google</td>\n",
       "      <td>untracked</td>\n",
       "      <td>Web</td>\n",
       "      <td>Mac Desktop</td>\n",
       "      <td>Chrome</td>\n",
       "      <td>NDF</td>\n",
       "    </tr>\n",
       "    <tr>\n",
       "      <th>2</th>\n",
       "      <td>4ft3gnwmtx</td>\n",
       "      <td>2010-09-28</td>\n",
       "      <td>20090609231247</td>\n",
       "      <td>2010-08-02</td>\n",
       "      <td>FEMALE</td>\n",
       "      <td>56.0</td>\n",
       "      <td>basic</td>\n",
       "      <td>3</td>\n",
       "      <td>en</td>\n",
       "      <td>direct</td>\n",
       "      <td>direct</td>\n",
       "      <td>untracked</td>\n",
       "      <td>Web</td>\n",
       "      <td>Windows Desktop</td>\n",
       "      <td>IE</td>\n",
       "      <td>US</td>\n",
       "    </tr>\n",
       "    <tr>\n",
       "      <th>3</th>\n",
       "      <td>bjjt8pjhuk</td>\n",
       "      <td>2011-12-05</td>\n",
       "      <td>20091031060129</td>\n",
       "      <td>2012-09-08</td>\n",
       "      <td>FEMALE</td>\n",
       "      <td>42.0</td>\n",
       "      <td>facebook</td>\n",
       "      <td>0</td>\n",
       "      <td>en</td>\n",
       "      <td>direct</td>\n",
       "      <td>direct</td>\n",
       "      <td>untracked</td>\n",
       "      <td>Web</td>\n",
       "      <td>Mac Desktop</td>\n",
       "      <td>Firefox</td>\n",
       "      <td>other</td>\n",
       "    </tr>\n",
       "    <tr>\n",
       "      <th>4</th>\n",
       "      <td>87mebub9p4</td>\n",
       "      <td>2010-09-14</td>\n",
       "      <td>20091208061105</td>\n",
       "      <td>2010-02-18</td>\n",
       "      <td>-unknown-</td>\n",
       "      <td>41.0</td>\n",
       "      <td>basic</td>\n",
       "      <td>0</td>\n",
       "      <td>en</td>\n",
       "      <td>direct</td>\n",
       "      <td>direct</td>\n",
       "      <td>untracked</td>\n",
       "      <td>Web</td>\n",
       "      <td>Mac Desktop</td>\n",
       "      <td>Chrome</td>\n",
       "      <td>US</td>\n",
       "    </tr>\n",
       "  </tbody>\n",
       "</table>\n",
       "</div>"
      ],
      "text/plain": [
       "           id date_account_created  timestamp_first_active date_first_booking  \\\n",
       "0  gxn3p5htnn           2010-06-28          20090319043255                NaN   \n",
       "1  820tgsjxq7           2011-05-25          20090523174809                NaN   \n",
       "2  4ft3gnwmtx           2010-09-28          20090609231247         2010-08-02   \n",
       "3  bjjt8pjhuk           2011-12-05          20091031060129         2012-09-08   \n",
       "4  87mebub9p4           2010-09-14          20091208061105         2010-02-18   \n",
       "\n",
       "      gender   age signup_method  signup_flow language affiliate_channel  \\\n",
       "0  -unknown-   NaN      facebook            0       en            direct   \n",
       "1       MALE  38.0      facebook            0       en               seo   \n",
       "2     FEMALE  56.0         basic            3       en            direct   \n",
       "3     FEMALE  42.0      facebook            0       en            direct   \n",
       "4  -unknown-  41.0         basic            0       en            direct   \n",
       "\n",
       "  affiliate_provider first_affiliate_tracked signup_app first_device_type  \\\n",
       "0             direct               untracked        Web       Mac Desktop   \n",
       "1             google               untracked        Web       Mac Desktop   \n",
       "2             direct               untracked        Web   Windows Desktop   \n",
       "3             direct               untracked        Web       Mac Desktop   \n",
       "4             direct               untracked        Web       Mac Desktop   \n",
       "\n",
       "  first_browser country_destination  \n",
       "0        Chrome                 NDF  \n",
       "1        Chrome                 NDF  \n",
       "2            IE                  US  \n",
       "3       Firefox               other  \n",
       "4        Chrome                  US  "
      ]
     },
     "execution_count": 5,
     "metadata": {},
     "output_type": "execute_result"
    }
   ],
   "source": [
    "train_df.head()"
   ]
  },
  {
   "cell_type": "code",
   "execution_count": 6,
   "id": "0c703164",
   "metadata": {},
   "outputs": [
    {
     "data": {
      "text/plain": [
       "(213451, 16)"
      ]
     },
     "execution_count": 6,
     "metadata": {},
     "output_type": "execute_result"
    }
   ],
   "source": [
    "train_df.shape"
   ]
  },
  {
   "cell_type": "code",
   "execution_count": 7,
   "id": "7043adbb",
   "metadata": {},
   "outputs": [
    {
     "data": {
      "text/plain": [
       "Index(['id', 'date_account_created', 'timestamp_first_active',\n",
       "       'date_first_booking', 'gender', 'age', 'signup_method', 'signup_flow',\n",
       "       'language', 'affiliate_channel', 'affiliate_provider',\n",
       "       'first_affiliate_tracked', 'signup_app', 'first_device_type',\n",
       "       'first_browser', 'country_destination'],\n",
       "      dtype='object')"
      ]
     },
     "execution_count": 7,
     "metadata": {},
     "output_type": "execute_result"
    }
   ],
   "source": [
    "train_df.columns"
   ]
  },
  {
   "cell_type": "code",
   "execution_count": 8,
   "id": "9f4ee5b1",
   "metadata": {},
   "outputs": [
    {
     "name": "stdout",
     "output_type": "stream",
     "text": [
      "<class 'pandas.core.frame.DataFrame'>\n",
      "RangeIndex: 213451 entries, 0 to 213450\n",
      "Data columns (total 16 columns):\n",
      " #   Column                   Non-Null Count   Dtype  \n",
      "---  ------                   --------------   -----  \n",
      " 0   id                       213451 non-null  object \n",
      " 1   date_account_created     213451 non-null  object \n",
      " 2   timestamp_first_active   213451 non-null  int64  \n",
      " 3   date_first_booking       88908 non-null   object \n",
      " 4   gender                   213451 non-null  object \n",
      " 5   age                      125461 non-null  float64\n",
      " 6   signup_method            213451 non-null  object \n",
      " 7   signup_flow              213451 non-null  int64  \n",
      " 8   language                 213451 non-null  object \n",
      " 9   affiliate_channel        213451 non-null  object \n",
      " 10  affiliate_provider       213451 non-null  object \n",
      " 11  first_affiliate_tracked  207386 non-null  object \n",
      " 12  signup_app               213451 non-null  object \n",
      " 13  first_device_type        213451 non-null  object \n",
      " 14  first_browser            213451 non-null  object \n",
      " 15  country_destination      213451 non-null  object \n",
      "dtypes: float64(1), int64(2), object(13)\n",
      "memory usage: 26.1+ MB\n"
     ]
    }
   ],
   "source": [
    "train_df.info()"
   ]
  },
  {
   "cell_type": "code",
   "execution_count": 9,
   "id": "5aceb4a0",
   "metadata": {
    "scrolled": true
   },
   "outputs": [],
   "source": [
    "# Handle the date column\n",
    "\n",
    "train_df['first_booking_year'] = pd.to_datetime(train_df['date_first_booking']).dt.year\n",
    "train_df['first_booking_month'] = pd.to_datetime(train_df['date_first_booking']).dt.month_name()\n",
    "\n",
    "train_df.drop('date_first_booking', axis=1, inplace=True)\n",
    "\n",
    "\n",
    "train_df['account_created_year'] = pd.to_datetime(train_df['date_account_created']).dt.year\n",
    "train_df['account_created_month'] = pd.to_datetime(train_df['date_account_created']).dt.month_name()\n",
    "\n",
    "train_df.drop('date_account_created', axis=1, inplace=True)"
   ]
  },
  {
   "cell_type": "code",
   "execution_count": 10,
   "id": "33bc5ef4",
   "metadata": {},
   "outputs": [
    {
     "data": {
      "text/html": [
       "<div>\n",
       "<style scoped>\n",
       "    .dataframe tbody tr th:only-of-type {\n",
       "        vertical-align: middle;\n",
       "    }\n",
       "\n",
       "    .dataframe tbody tr th {\n",
       "        vertical-align: top;\n",
       "    }\n",
       "\n",
       "    .dataframe thead th {\n",
       "        text-align: right;\n",
       "    }\n",
       "</style>\n",
       "<table border=\"1\" class=\"dataframe\">\n",
       "  <thead>\n",
       "    <tr style=\"text-align: right;\">\n",
       "      <th></th>\n",
       "      <th>id</th>\n",
       "      <th>timestamp_first_active</th>\n",
       "      <th>gender</th>\n",
       "      <th>age</th>\n",
       "      <th>signup_method</th>\n",
       "      <th>signup_flow</th>\n",
       "      <th>language</th>\n",
       "      <th>affiliate_channel</th>\n",
       "      <th>affiliate_provider</th>\n",
       "      <th>first_affiliate_tracked</th>\n",
       "      <th>signup_app</th>\n",
       "      <th>first_device_type</th>\n",
       "      <th>first_browser</th>\n",
       "      <th>country_destination</th>\n",
       "      <th>first_booking_year</th>\n",
       "      <th>first_booking_month</th>\n",
       "      <th>account_created_year</th>\n",
       "      <th>account_created_month</th>\n",
       "    </tr>\n",
       "  </thead>\n",
       "  <tbody>\n",
       "    <tr>\n",
       "      <th>0</th>\n",
       "      <td>gxn3p5htnn</td>\n",
       "      <td>20090319043255</td>\n",
       "      <td>-unknown-</td>\n",
       "      <td>NaN</td>\n",
       "      <td>facebook</td>\n",
       "      <td>0</td>\n",
       "      <td>en</td>\n",
       "      <td>direct</td>\n",
       "      <td>direct</td>\n",
       "      <td>untracked</td>\n",
       "      <td>Web</td>\n",
       "      <td>Mac Desktop</td>\n",
       "      <td>Chrome</td>\n",
       "      <td>NDF</td>\n",
       "      <td>NaN</td>\n",
       "      <td>NaN</td>\n",
       "      <td>2010</td>\n",
       "      <td>June</td>\n",
       "    </tr>\n",
       "    <tr>\n",
       "      <th>1</th>\n",
       "      <td>820tgsjxq7</td>\n",
       "      <td>20090523174809</td>\n",
       "      <td>MALE</td>\n",
       "      <td>38.0</td>\n",
       "      <td>facebook</td>\n",
       "      <td>0</td>\n",
       "      <td>en</td>\n",
       "      <td>seo</td>\n",
       "      <td>google</td>\n",
       "      <td>untracked</td>\n",
       "      <td>Web</td>\n",
       "      <td>Mac Desktop</td>\n",
       "      <td>Chrome</td>\n",
       "      <td>NDF</td>\n",
       "      <td>NaN</td>\n",
       "      <td>NaN</td>\n",
       "      <td>2011</td>\n",
       "      <td>May</td>\n",
       "    </tr>\n",
       "    <tr>\n",
       "      <th>2</th>\n",
       "      <td>4ft3gnwmtx</td>\n",
       "      <td>20090609231247</td>\n",
       "      <td>FEMALE</td>\n",
       "      <td>56.0</td>\n",
       "      <td>basic</td>\n",
       "      <td>3</td>\n",
       "      <td>en</td>\n",
       "      <td>direct</td>\n",
       "      <td>direct</td>\n",
       "      <td>untracked</td>\n",
       "      <td>Web</td>\n",
       "      <td>Windows Desktop</td>\n",
       "      <td>IE</td>\n",
       "      <td>US</td>\n",
       "      <td>2010.0</td>\n",
       "      <td>August</td>\n",
       "      <td>2010</td>\n",
       "      <td>September</td>\n",
       "    </tr>\n",
       "    <tr>\n",
       "      <th>3</th>\n",
       "      <td>bjjt8pjhuk</td>\n",
       "      <td>20091031060129</td>\n",
       "      <td>FEMALE</td>\n",
       "      <td>42.0</td>\n",
       "      <td>facebook</td>\n",
       "      <td>0</td>\n",
       "      <td>en</td>\n",
       "      <td>direct</td>\n",
       "      <td>direct</td>\n",
       "      <td>untracked</td>\n",
       "      <td>Web</td>\n",
       "      <td>Mac Desktop</td>\n",
       "      <td>Firefox</td>\n",
       "      <td>other</td>\n",
       "      <td>2012.0</td>\n",
       "      <td>September</td>\n",
       "      <td>2011</td>\n",
       "      <td>December</td>\n",
       "    </tr>\n",
       "    <tr>\n",
       "      <th>4</th>\n",
       "      <td>87mebub9p4</td>\n",
       "      <td>20091208061105</td>\n",
       "      <td>-unknown-</td>\n",
       "      <td>41.0</td>\n",
       "      <td>basic</td>\n",
       "      <td>0</td>\n",
       "      <td>en</td>\n",
       "      <td>direct</td>\n",
       "      <td>direct</td>\n",
       "      <td>untracked</td>\n",
       "      <td>Web</td>\n",
       "      <td>Mac Desktop</td>\n",
       "      <td>Chrome</td>\n",
       "      <td>US</td>\n",
       "      <td>2010.0</td>\n",
       "      <td>February</td>\n",
       "      <td>2010</td>\n",
       "      <td>September</td>\n",
       "    </tr>\n",
       "  </tbody>\n",
       "</table>\n",
       "</div>"
      ],
      "text/plain": [
       "           id  timestamp_first_active     gender   age signup_method  \\\n",
       "0  gxn3p5htnn          20090319043255  -unknown-   NaN      facebook   \n",
       "1  820tgsjxq7          20090523174809       MALE  38.0      facebook   \n",
       "2  4ft3gnwmtx          20090609231247     FEMALE  56.0         basic   \n",
       "3  bjjt8pjhuk          20091031060129     FEMALE  42.0      facebook   \n",
       "4  87mebub9p4          20091208061105  -unknown-  41.0         basic   \n",
       "\n",
       "   signup_flow language affiliate_channel affiliate_provider  \\\n",
       "0            0       en            direct             direct   \n",
       "1            0       en               seo             google   \n",
       "2            3       en            direct             direct   \n",
       "3            0       en            direct             direct   \n",
       "4            0       en            direct             direct   \n",
       "\n",
       "  first_affiliate_tracked signup_app first_device_type first_browser  \\\n",
       "0               untracked        Web       Mac Desktop        Chrome   \n",
       "1               untracked        Web       Mac Desktop        Chrome   \n",
       "2               untracked        Web   Windows Desktop            IE   \n",
       "3               untracked        Web       Mac Desktop       Firefox   \n",
       "4               untracked        Web       Mac Desktop        Chrome   \n",
       "\n",
       "  country_destination  first_booking_year first_booking_month  \\\n",
       "0                 NDF                 NaN                 NaN   \n",
       "1                 NDF                 NaN                 NaN   \n",
       "2                  US              2010.0              August   \n",
       "3               other              2012.0           September   \n",
       "4                  US              2010.0            February   \n",
       "\n",
       "   account_created_year account_created_month  \n",
       "0                  2010                  June  \n",
       "1                  2011                   May  \n",
       "2                  2010             September  \n",
       "3                  2011              December  \n",
       "4                  2010             September  "
      ]
     },
     "execution_count": 10,
     "metadata": {},
     "output_type": "execute_result"
    }
   ],
   "source": [
    "train_df.head()"
   ]
  },
  {
   "cell_type": "markdown",
   "id": "0da4d725",
   "metadata": {},
   "source": [
    "### Test data"
   ]
  },
  {
   "cell_type": "code",
   "execution_count": 11,
   "id": "3b00dd6f",
   "metadata": {},
   "outputs": [],
   "source": [
    "test_df = pd.read_csv(os.path.join(data_dir, \"test_users.csv\"), encoding=\"latin-1\")"
   ]
  },
  {
   "cell_type": "code",
   "execution_count": 12,
   "id": "941f1793",
   "metadata": {},
   "outputs": [
    {
     "data": {
      "text/html": [
       "<div>\n",
       "<style scoped>\n",
       "    .dataframe tbody tr th:only-of-type {\n",
       "        vertical-align: middle;\n",
       "    }\n",
       "\n",
       "    .dataframe tbody tr th {\n",
       "        vertical-align: top;\n",
       "    }\n",
       "\n",
       "    .dataframe thead th {\n",
       "        text-align: right;\n",
       "    }\n",
       "</style>\n",
       "<table border=\"1\" class=\"dataframe\">\n",
       "  <thead>\n",
       "    <tr style=\"text-align: right;\">\n",
       "      <th></th>\n",
       "      <th>id</th>\n",
       "      <th>date_account_created</th>\n",
       "      <th>timestamp_first_active</th>\n",
       "      <th>date_first_booking</th>\n",
       "      <th>gender</th>\n",
       "      <th>age</th>\n",
       "      <th>signup_method</th>\n",
       "      <th>signup_flow</th>\n",
       "      <th>language</th>\n",
       "      <th>affiliate_channel</th>\n",
       "      <th>affiliate_provider</th>\n",
       "      <th>first_affiliate_tracked</th>\n",
       "      <th>signup_app</th>\n",
       "      <th>first_device_type</th>\n",
       "      <th>first_browser</th>\n",
       "    </tr>\n",
       "  </thead>\n",
       "  <tbody>\n",
       "    <tr>\n",
       "      <th>0</th>\n",
       "      <td>5uwns89zht</td>\n",
       "      <td>2014-07-01</td>\n",
       "      <td>20140701000006</td>\n",
       "      <td>NaN</td>\n",
       "      <td>FEMALE</td>\n",
       "      <td>35.0</td>\n",
       "      <td>facebook</td>\n",
       "      <td>0</td>\n",
       "      <td>en</td>\n",
       "      <td>direct</td>\n",
       "      <td>direct</td>\n",
       "      <td>untracked</td>\n",
       "      <td>Moweb</td>\n",
       "      <td>iPhone</td>\n",
       "      <td>Mobile Safari</td>\n",
       "    </tr>\n",
       "    <tr>\n",
       "      <th>1</th>\n",
       "      <td>jtl0dijy2j</td>\n",
       "      <td>2014-07-01</td>\n",
       "      <td>20140701000051</td>\n",
       "      <td>NaN</td>\n",
       "      <td>-unknown-</td>\n",
       "      <td>NaN</td>\n",
       "      <td>basic</td>\n",
       "      <td>0</td>\n",
       "      <td>en</td>\n",
       "      <td>direct</td>\n",
       "      <td>direct</td>\n",
       "      <td>untracked</td>\n",
       "      <td>Moweb</td>\n",
       "      <td>iPhone</td>\n",
       "      <td>Mobile Safari</td>\n",
       "    </tr>\n",
       "    <tr>\n",
       "      <th>2</th>\n",
       "      <td>xx0ulgorjt</td>\n",
       "      <td>2014-07-01</td>\n",
       "      <td>20140701000148</td>\n",
       "      <td>NaN</td>\n",
       "      <td>-unknown-</td>\n",
       "      <td>NaN</td>\n",
       "      <td>basic</td>\n",
       "      <td>0</td>\n",
       "      <td>en</td>\n",
       "      <td>direct</td>\n",
       "      <td>direct</td>\n",
       "      <td>linked</td>\n",
       "      <td>Web</td>\n",
       "      <td>Windows Desktop</td>\n",
       "      <td>Chrome</td>\n",
       "    </tr>\n",
       "    <tr>\n",
       "      <th>3</th>\n",
       "      <td>6c6puo6ix0</td>\n",
       "      <td>2014-07-01</td>\n",
       "      <td>20140701000215</td>\n",
       "      <td>NaN</td>\n",
       "      <td>-unknown-</td>\n",
       "      <td>NaN</td>\n",
       "      <td>basic</td>\n",
       "      <td>0</td>\n",
       "      <td>en</td>\n",
       "      <td>direct</td>\n",
       "      <td>direct</td>\n",
       "      <td>linked</td>\n",
       "      <td>Web</td>\n",
       "      <td>Windows Desktop</td>\n",
       "      <td>IE</td>\n",
       "    </tr>\n",
       "    <tr>\n",
       "      <th>4</th>\n",
       "      <td>czqhjk3yfe</td>\n",
       "      <td>2014-07-01</td>\n",
       "      <td>20140701000305</td>\n",
       "      <td>NaN</td>\n",
       "      <td>-unknown-</td>\n",
       "      <td>NaN</td>\n",
       "      <td>basic</td>\n",
       "      <td>0</td>\n",
       "      <td>en</td>\n",
       "      <td>direct</td>\n",
       "      <td>direct</td>\n",
       "      <td>untracked</td>\n",
       "      <td>Web</td>\n",
       "      <td>Mac Desktop</td>\n",
       "      <td>Safari</td>\n",
       "    </tr>\n",
       "  </tbody>\n",
       "</table>\n",
       "</div>"
      ],
      "text/plain": [
       "           id date_account_created  timestamp_first_active  \\\n",
       "0  5uwns89zht           2014-07-01          20140701000006   \n",
       "1  jtl0dijy2j           2014-07-01          20140701000051   \n",
       "2  xx0ulgorjt           2014-07-01          20140701000148   \n",
       "3  6c6puo6ix0           2014-07-01          20140701000215   \n",
       "4  czqhjk3yfe           2014-07-01          20140701000305   \n",
       "\n",
       "   date_first_booking     gender   age signup_method  signup_flow language  \\\n",
       "0                 NaN     FEMALE  35.0      facebook            0       en   \n",
       "1                 NaN  -unknown-   NaN         basic            0       en   \n",
       "2                 NaN  -unknown-   NaN         basic            0       en   \n",
       "3                 NaN  -unknown-   NaN         basic            0       en   \n",
       "4                 NaN  -unknown-   NaN         basic            0       en   \n",
       "\n",
       "  affiliate_channel affiliate_provider first_affiliate_tracked signup_app  \\\n",
       "0            direct             direct               untracked      Moweb   \n",
       "1            direct             direct               untracked      Moweb   \n",
       "2            direct             direct                  linked        Web   \n",
       "3            direct             direct                  linked        Web   \n",
       "4            direct             direct               untracked        Web   \n",
       "\n",
       "  first_device_type  first_browser  \n",
       "0            iPhone  Mobile Safari  \n",
       "1            iPhone  Mobile Safari  \n",
       "2   Windows Desktop         Chrome  \n",
       "3   Windows Desktop             IE  \n",
       "4       Mac Desktop         Safari  "
      ]
     },
     "execution_count": 12,
     "metadata": {},
     "output_type": "execute_result"
    }
   ],
   "source": [
    "test_df.head()"
   ]
  },
  {
   "cell_type": "code",
   "execution_count": 13,
   "id": "60c4305d",
   "metadata": {},
   "outputs": [
    {
     "data": {
      "text/plain": [
       "(62096, 15)"
      ]
     },
     "execution_count": 13,
     "metadata": {},
     "output_type": "execute_result"
    }
   ],
   "source": [
    "test_df.shape"
   ]
  },
  {
   "cell_type": "code",
   "execution_count": 14,
   "id": "c7ed3af2",
   "metadata": {},
   "outputs": [
    {
     "data": {
      "text/plain": [
       "Index(['id', 'date_account_created', 'timestamp_first_active',\n",
       "       'date_first_booking', 'gender', 'age', 'signup_method', 'signup_flow',\n",
       "       'language', 'affiliate_channel', 'affiliate_provider',\n",
       "       'first_affiliate_tracked', 'signup_app', 'first_device_type',\n",
       "       'first_browser'],\n",
       "      dtype='object')"
      ]
     },
     "execution_count": 14,
     "metadata": {},
     "output_type": "execute_result"
    }
   ],
   "source": [
    "test_df.columns"
   ]
  },
  {
   "cell_type": "code",
   "execution_count": 15,
   "id": "644a9ebb",
   "metadata": {},
   "outputs": [
    {
     "name": "stdout",
     "output_type": "stream",
     "text": [
      "<class 'pandas.core.frame.DataFrame'>\n",
      "RangeIndex: 62096 entries, 0 to 62095\n",
      "Data columns (total 15 columns):\n",
      " #   Column                   Non-Null Count  Dtype  \n",
      "---  ------                   --------------  -----  \n",
      " 0   id                       62096 non-null  object \n",
      " 1   date_account_created     62096 non-null  object \n",
      " 2   timestamp_first_active   62096 non-null  int64  \n",
      " 3   date_first_booking       0 non-null      float64\n",
      " 4   gender                   62096 non-null  object \n",
      " 5   age                      33220 non-null  float64\n",
      " 6   signup_method            62096 non-null  object \n",
      " 7   signup_flow              62096 non-null  int64  \n",
      " 8   language                 62096 non-null  object \n",
      " 9   affiliate_channel        62096 non-null  object \n",
      " 10  affiliate_provider       62096 non-null  object \n",
      " 11  first_affiliate_tracked  62076 non-null  object \n",
      " 12  signup_app               62096 non-null  object \n",
      " 13  first_device_type        62096 non-null  object \n",
      " 14  first_browser            62096 non-null  object \n",
      "dtypes: float64(2), int64(2), object(11)\n",
      "memory usage: 7.1+ MB\n"
     ]
    }
   ],
   "source": [
    "test_df.info()"
   ]
  },
  {
   "cell_type": "markdown",
   "id": "19849275",
   "metadata": {},
   "source": [
    "#### As we see that the test data doesn't have any 'country_destination' column which is target column, therefore we will ignore the test dataset"
   ]
  },
  {
   "cell_type": "markdown",
   "id": "198c020c",
   "metadata": {},
   "source": [
    "### Countries Data¶"
   ]
  },
  {
   "cell_type": "code",
   "execution_count": 16,
   "id": "ed4e625b",
   "metadata": {},
   "outputs": [],
   "source": [
    "countries_df = pd.read_csv(os.path.join(data_dir, \"countries.csv\"), encoding=\"latin-1\")"
   ]
  },
  {
   "cell_type": "code",
   "execution_count": 17,
   "id": "bafd1b7c",
   "metadata": {},
   "outputs": [
    {
     "data": {
      "text/html": [
       "<div>\n",
       "<style scoped>\n",
       "    .dataframe tbody tr th:only-of-type {\n",
       "        vertical-align: middle;\n",
       "    }\n",
       "\n",
       "    .dataframe tbody tr th {\n",
       "        vertical-align: top;\n",
       "    }\n",
       "\n",
       "    .dataframe thead th {\n",
       "        text-align: right;\n",
       "    }\n",
       "</style>\n",
       "<table border=\"1\" class=\"dataframe\">\n",
       "  <thead>\n",
       "    <tr style=\"text-align: right;\">\n",
       "      <th></th>\n",
       "      <th>country_destination</th>\n",
       "      <th>lat_destination</th>\n",
       "      <th>lng_destination</th>\n",
       "      <th>distance_km</th>\n",
       "      <th>destination_km2</th>\n",
       "      <th>destination_language</th>\n",
       "      <th>language_levenshtein_distance</th>\n",
       "    </tr>\n",
       "  </thead>\n",
       "  <tbody>\n",
       "    <tr>\n",
       "      <th>0</th>\n",
       "      <td>AU</td>\n",
       "      <td>-26.853388</td>\n",
       "      <td>133.275160</td>\n",
       "      <td>15297.7440</td>\n",
       "      <td>7741220.0</td>\n",
       "      <td>eng</td>\n",
       "      <td>0.00</td>\n",
       "    </tr>\n",
       "    <tr>\n",
       "      <th>1</th>\n",
       "      <td>CA</td>\n",
       "      <td>62.393303</td>\n",
       "      <td>-96.818146</td>\n",
       "      <td>2828.1333</td>\n",
       "      <td>9984670.0</td>\n",
       "      <td>eng</td>\n",
       "      <td>0.00</td>\n",
       "    </tr>\n",
       "    <tr>\n",
       "      <th>2</th>\n",
       "      <td>DE</td>\n",
       "      <td>51.165707</td>\n",
       "      <td>10.452764</td>\n",
       "      <td>7879.5680</td>\n",
       "      <td>357022.0</td>\n",
       "      <td>deu</td>\n",
       "      <td>72.61</td>\n",
       "    </tr>\n",
       "    <tr>\n",
       "      <th>3</th>\n",
       "      <td>ES</td>\n",
       "      <td>39.896027</td>\n",
       "      <td>-2.487694</td>\n",
       "      <td>7730.7240</td>\n",
       "      <td>505370.0</td>\n",
       "      <td>spa</td>\n",
       "      <td>92.25</td>\n",
       "    </tr>\n",
       "    <tr>\n",
       "      <th>4</th>\n",
       "      <td>FR</td>\n",
       "      <td>46.232193</td>\n",
       "      <td>2.209667</td>\n",
       "      <td>7682.9450</td>\n",
       "      <td>643801.0</td>\n",
       "      <td>fra</td>\n",
       "      <td>92.06</td>\n",
       "    </tr>\n",
       "  </tbody>\n",
       "</table>\n",
       "</div>"
      ],
      "text/plain": [
       "  country_destination  lat_destination  lng_destination  distance_km  \\\n",
       "0                  AU       -26.853388       133.275160   15297.7440   \n",
       "1                  CA        62.393303       -96.818146    2828.1333   \n",
       "2                  DE        51.165707        10.452764    7879.5680   \n",
       "3                  ES        39.896027        -2.487694    7730.7240   \n",
       "4                  FR        46.232193         2.209667    7682.9450   \n",
       "\n",
       "   destination_km2 destination_language   language_levenshtein_distance  \n",
       "0        7741220.0                   eng                           0.00  \n",
       "1        9984670.0                   eng                           0.00  \n",
       "2         357022.0                   deu                          72.61  \n",
       "3         505370.0                   spa                          92.25  \n",
       "4         643801.0                   fra                          92.06  "
      ]
     },
     "execution_count": 17,
     "metadata": {},
     "output_type": "execute_result"
    }
   ],
   "source": [
    "countries_df.head()"
   ]
  },
  {
   "cell_type": "code",
   "execution_count": 18,
   "id": "61f880af",
   "metadata": {},
   "outputs": [
    {
     "data": {
      "text/plain": [
       "(10, 7)"
      ]
     },
     "execution_count": 18,
     "metadata": {},
     "output_type": "execute_result"
    }
   ],
   "source": [
    "countries_df.shape"
   ]
  },
  {
   "cell_type": "code",
   "execution_count": 19,
   "id": "f1b555ef",
   "metadata": {},
   "outputs": [
    {
     "data": {
      "text/plain": [
       "Index(['country_destination', 'lat_destination', 'lng_destination',\n",
       "       'distance_km', 'destination_km2', 'destination_language ',\n",
       "       'language_levenshtein_distance'],\n",
       "      dtype='object')"
      ]
     },
     "execution_count": 19,
     "metadata": {},
     "output_type": "execute_result"
    }
   ],
   "source": [
    "countries_df.columns"
   ]
  },
  {
   "cell_type": "code",
   "execution_count": 20,
   "id": "d781a93e",
   "metadata": {},
   "outputs": [
    {
     "name": "stdout",
     "output_type": "stream",
     "text": [
      "<class 'pandas.core.frame.DataFrame'>\n",
      "RangeIndex: 10 entries, 0 to 9\n",
      "Data columns (total 7 columns):\n",
      " #   Column                         Non-Null Count  Dtype  \n",
      "---  ------                         --------------  -----  \n",
      " 0   country_destination            10 non-null     object \n",
      " 1   lat_destination                10 non-null     float64\n",
      " 2   lng_destination                10 non-null     float64\n",
      " 3   distance_km                    10 non-null     float64\n",
      " 4   destination_km2                10 non-null     float64\n",
      " 5   destination_language           10 non-null     object \n",
      " 6   language_levenshtein_distance  10 non-null     float64\n",
      "dtypes: float64(5), object(2)\n",
      "memory usage: 688.0+ bytes\n"
     ]
    }
   ],
   "source": [
    "countries_df.info()"
   ]
  },
  {
   "cell_type": "markdown",
   "id": "cd3197ca",
   "metadata": {},
   "source": [
    "### Session Data"
   ]
  },
  {
   "cell_type": "code",
   "execution_count": 21,
   "id": "b35d39f8",
   "metadata": {},
   "outputs": [],
   "source": [
    "session_df = pd.read_csv(os.path.join(data_dir, \"sessions.csv\"), encoding=\"latin-1\")"
   ]
  },
  {
   "cell_type": "code",
   "execution_count": 22,
   "id": "be51bc71",
   "metadata": {},
   "outputs": [
    {
     "data": {
      "text/html": [
       "<div>\n",
       "<style scoped>\n",
       "    .dataframe tbody tr th:only-of-type {\n",
       "        vertical-align: middle;\n",
       "    }\n",
       "\n",
       "    .dataframe tbody tr th {\n",
       "        vertical-align: top;\n",
       "    }\n",
       "\n",
       "    .dataframe thead th {\n",
       "        text-align: right;\n",
       "    }\n",
       "</style>\n",
       "<table border=\"1\" class=\"dataframe\">\n",
       "  <thead>\n",
       "    <tr style=\"text-align: right;\">\n",
       "      <th></th>\n",
       "      <th>user_id</th>\n",
       "      <th>action</th>\n",
       "      <th>action_type</th>\n",
       "      <th>action_detail</th>\n",
       "      <th>device_type</th>\n",
       "      <th>secs_elapsed</th>\n",
       "    </tr>\n",
       "  </thead>\n",
       "  <tbody>\n",
       "    <tr>\n",
       "      <th>0</th>\n",
       "      <td>d1mm9tcy42</td>\n",
       "      <td>lookup</td>\n",
       "      <td>NaN</td>\n",
       "      <td>NaN</td>\n",
       "      <td>Windows Desktop</td>\n",
       "      <td>319.0</td>\n",
       "    </tr>\n",
       "    <tr>\n",
       "      <th>1</th>\n",
       "      <td>d1mm9tcy42</td>\n",
       "      <td>search_results</td>\n",
       "      <td>click</td>\n",
       "      <td>view_search_results</td>\n",
       "      <td>Windows Desktop</td>\n",
       "      <td>67753.0</td>\n",
       "    </tr>\n",
       "    <tr>\n",
       "      <th>2</th>\n",
       "      <td>d1mm9tcy42</td>\n",
       "      <td>lookup</td>\n",
       "      <td>NaN</td>\n",
       "      <td>NaN</td>\n",
       "      <td>Windows Desktop</td>\n",
       "      <td>301.0</td>\n",
       "    </tr>\n",
       "    <tr>\n",
       "      <th>3</th>\n",
       "      <td>d1mm9tcy42</td>\n",
       "      <td>search_results</td>\n",
       "      <td>click</td>\n",
       "      <td>view_search_results</td>\n",
       "      <td>Windows Desktop</td>\n",
       "      <td>22141.0</td>\n",
       "    </tr>\n",
       "    <tr>\n",
       "      <th>4</th>\n",
       "      <td>d1mm9tcy42</td>\n",
       "      <td>lookup</td>\n",
       "      <td>NaN</td>\n",
       "      <td>NaN</td>\n",
       "      <td>Windows Desktop</td>\n",
       "      <td>435.0</td>\n",
       "    </tr>\n",
       "  </tbody>\n",
       "</table>\n",
       "</div>"
      ],
      "text/plain": [
       "      user_id          action action_type        action_detail  \\\n",
       "0  d1mm9tcy42          lookup         NaN                  NaN   \n",
       "1  d1mm9tcy42  search_results       click  view_search_results   \n",
       "2  d1mm9tcy42          lookup         NaN                  NaN   \n",
       "3  d1mm9tcy42  search_results       click  view_search_results   \n",
       "4  d1mm9tcy42          lookup         NaN                  NaN   \n",
       "\n",
       "       device_type  secs_elapsed  \n",
       "0  Windows Desktop         319.0  \n",
       "1  Windows Desktop       67753.0  \n",
       "2  Windows Desktop         301.0  \n",
       "3  Windows Desktop       22141.0  \n",
       "4  Windows Desktop         435.0  "
      ]
     },
     "execution_count": 22,
     "metadata": {},
     "output_type": "execute_result"
    }
   ],
   "source": [
    "session_df.head()"
   ]
  },
  {
   "cell_type": "code",
   "execution_count": 23,
   "id": "78bed4bf",
   "metadata": {},
   "outputs": [
    {
     "data": {
      "text/plain": [
       "(10567737, 6)"
      ]
     },
     "execution_count": 23,
     "metadata": {},
     "output_type": "execute_result"
    }
   ],
   "source": [
    "session_df.shape"
   ]
  },
  {
   "cell_type": "code",
   "execution_count": 24,
   "id": "14abac11",
   "metadata": {},
   "outputs": [
    {
     "data": {
      "text/plain": [
       "Index(['user_id', 'action', 'action_type', 'action_detail', 'device_type',\n",
       "       'secs_elapsed'],\n",
       "      dtype='object')"
      ]
     },
     "execution_count": 24,
     "metadata": {},
     "output_type": "execute_result"
    }
   ],
   "source": [
    "session_df.columns"
   ]
  },
  {
   "cell_type": "code",
   "execution_count": 25,
   "id": "3ec6e236",
   "metadata": {},
   "outputs": [
    {
     "name": "stdout",
     "output_type": "stream",
     "text": [
      "<class 'pandas.core.frame.DataFrame'>\n",
      "RangeIndex: 10567737 entries, 0 to 10567736\n",
      "Data columns (total 6 columns):\n",
      " #   Column         Dtype  \n",
      "---  ------         -----  \n",
      " 0   user_id        object \n",
      " 1   action         object \n",
      " 2   action_type    object \n",
      " 3   action_detail  object \n",
      " 4   device_type    object \n",
      " 5   secs_elapsed   float64\n",
      "dtypes: float64(1), object(5)\n",
      "memory usage: 483.8+ MB\n"
     ]
    }
   ],
   "source": [
    "session_df.info()"
   ]
  },
  {
   "cell_type": "markdown",
   "id": "a377f2da",
   "metadata": {},
   "source": [
    "### Age Data\n"
   ]
  },
  {
   "cell_type": "code",
   "execution_count": 26,
   "id": "926c3ee6",
   "metadata": {},
   "outputs": [],
   "source": [
    "age_df = pd.read_csv(os.path.join(data_dir, 'age_gender_bkts.csv'), encoding=\"latin-1\")"
   ]
  },
  {
   "cell_type": "code",
   "execution_count": 27,
   "id": "17b521d5",
   "metadata": {},
   "outputs": [
    {
     "data": {
      "text/html": [
       "<div>\n",
       "<style scoped>\n",
       "    .dataframe tbody tr th:only-of-type {\n",
       "        vertical-align: middle;\n",
       "    }\n",
       "\n",
       "    .dataframe tbody tr th {\n",
       "        vertical-align: top;\n",
       "    }\n",
       "\n",
       "    .dataframe thead th {\n",
       "        text-align: right;\n",
       "    }\n",
       "</style>\n",
       "<table border=\"1\" class=\"dataframe\">\n",
       "  <thead>\n",
       "    <tr style=\"text-align: right;\">\n",
       "      <th></th>\n",
       "      <th>age_bucket</th>\n",
       "      <th>country_destination</th>\n",
       "      <th>gender</th>\n",
       "      <th>population_in_thousands</th>\n",
       "      <th>year</th>\n",
       "    </tr>\n",
       "  </thead>\n",
       "  <tbody>\n",
       "    <tr>\n",
       "      <th>0</th>\n",
       "      <td>100+</td>\n",
       "      <td>AU</td>\n",
       "      <td>male</td>\n",
       "      <td>1.0</td>\n",
       "      <td>2015.0</td>\n",
       "    </tr>\n",
       "    <tr>\n",
       "      <th>1</th>\n",
       "      <td>95-99</td>\n",
       "      <td>AU</td>\n",
       "      <td>male</td>\n",
       "      <td>9.0</td>\n",
       "      <td>2015.0</td>\n",
       "    </tr>\n",
       "    <tr>\n",
       "      <th>2</th>\n",
       "      <td>90-94</td>\n",
       "      <td>AU</td>\n",
       "      <td>male</td>\n",
       "      <td>47.0</td>\n",
       "      <td>2015.0</td>\n",
       "    </tr>\n",
       "    <tr>\n",
       "      <th>3</th>\n",
       "      <td>85-89</td>\n",
       "      <td>AU</td>\n",
       "      <td>male</td>\n",
       "      <td>118.0</td>\n",
       "      <td>2015.0</td>\n",
       "    </tr>\n",
       "    <tr>\n",
       "      <th>4</th>\n",
       "      <td>80-84</td>\n",
       "      <td>AU</td>\n",
       "      <td>male</td>\n",
       "      <td>199.0</td>\n",
       "      <td>2015.0</td>\n",
       "    </tr>\n",
       "  </tbody>\n",
       "</table>\n",
       "</div>"
      ],
      "text/plain": [
       "  age_bucket country_destination gender  population_in_thousands    year\n",
       "0       100+                  AU   male                      1.0  2015.0\n",
       "1      95-99                  AU   male                      9.0  2015.0\n",
       "2      90-94                  AU   male                     47.0  2015.0\n",
       "3      85-89                  AU   male                    118.0  2015.0\n",
       "4      80-84                  AU   male                    199.0  2015.0"
      ]
     },
     "execution_count": 27,
     "metadata": {},
     "output_type": "execute_result"
    }
   ],
   "source": [
    "age_df.head()"
   ]
  },
  {
   "cell_type": "code",
   "execution_count": 28,
   "id": "b52b8521",
   "metadata": {},
   "outputs": [
    {
     "data": {
      "text/plain": [
       "(420, 5)"
      ]
     },
     "execution_count": 28,
     "metadata": {},
     "output_type": "execute_result"
    }
   ],
   "source": [
    "age_df.shape"
   ]
  },
  {
   "cell_type": "code",
   "execution_count": 29,
   "id": "cd700ea3",
   "metadata": {},
   "outputs": [
    {
     "data": {
      "text/plain": [
       "Index(['age_bucket', 'country_destination', 'gender',\n",
       "       'population_in_thousands', 'year'],\n",
       "      dtype='object')"
      ]
     },
     "execution_count": 29,
     "metadata": {},
     "output_type": "execute_result"
    }
   ],
   "source": [
    "age_df.columns"
   ]
  },
  {
   "cell_type": "code",
   "execution_count": 30,
   "id": "ae3d79ec",
   "metadata": {},
   "outputs": [
    {
     "name": "stdout",
     "output_type": "stream",
     "text": [
      "<class 'pandas.core.frame.DataFrame'>\n",
      "RangeIndex: 420 entries, 0 to 419\n",
      "Data columns (total 5 columns):\n",
      " #   Column                   Non-Null Count  Dtype  \n",
      "---  ------                   --------------  -----  \n",
      " 0   age_bucket               420 non-null    object \n",
      " 1   country_destination      420 non-null    object \n",
      " 2   gender                   420 non-null    object \n",
      " 3   population_in_thousands  420 non-null    float64\n",
      " 4   year                     420 non-null    float64\n",
      "dtypes: float64(2), object(3)\n",
      "memory usage: 16.5+ KB\n"
     ]
    }
   ],
   "source": [
    "age_df.info()"
   ]
  },
  {
   "cell_type": "markdown",
   "id": "960ce8b9",
   "metadata": {},
   "source": [
    "## Merging the data "
   ]
  },
  {
   "cell_type": "markdown",
   "id": "598dcab9",
   "metadata": {},
   "source": [
    "#### We will merge all the data on the common column to create a new dataset"
   ]
  },
  {
   "cell_type": "code",
   "execution_count": 31,
   "id": "571a9a6c",
   "metadata": {},
   "outputs": [],
   "source": [
    "# Merging train data with countries data, using inner join on 'country_destination' column\n",
    "merged_df = train_df.merge(countries_df, how='left')"
   ]
  },
  {
   "cell_type": "code",
   "execution_count": 32,
   "id": "206b6d77",
   "metadata": {},
   "outputs": [
    {
     "data": {
      "text/plain": [
       "((213451, 18), (213451, 24))"
      ]
     },
     "execution_count": 32,
     "metadata": {},
     "output_type": "execute_result"
    }
   ],
   "source": [
    "train_df.shape, merged_df.shape"
   ]
  },
  {
   "cell_type": "code",
   "execution_count": 33,
   "id": "372208c3",
   "metadata": {},
   "outputs": [],
   "source": [
    "# To merge it with session data, we need to group it with the 'user_id' and sum 'secs_elapsed' columns\n",
    "\n",
    "grouped_seesion = session_df.groupby(['user_id'])['secs_elapsed'].sum().reset_index()\n",
    "grouped_seesion = grouped_seesion.rename(columns={'user_id': 'id'})\n",
    "\n",
    "merged_df = merged_df.merge(grouped_seesion, how='left')"
   ]
  },
  {
   "cell_type": "code",
   "execution_count": 34,
   "id": "75de3d75",
   "metadata": {},
   "outputs": [
    {
     "data": {
      "text/plain": [
       "(213451, 25)"
      ]
     },
     "execution_count": 34,
     "metadata": {},
     "output_type": "execute_result"
    }
   ],
   "source": [
    "merged_df.shape"
   ]
  },
  {
   "cell_type": "code",
   "execution_count": 35,
   "id": "4c2611d0",
   "metadata": {},
   "outputs": [],
   "source": [
    "# To merge with age data we will map the age of merged_df into age_bucket of age_df, and get population_in_thousands\n",
    "\n",
    "population_in_thousands = []\n",
    "\n",
    "for index, row in merged_df.iterrows():\n",
    "    age = row['age']\n",
    "    country_destination = row['country_destination']\n",
    "    gender = row['gender'].lower()\n",
    "    \n",
    "    if 0 <= age < 5:\n",
    "        age_bucket = '0-4'\n",
    "    elif  5 <= age < 10:\n",
    "        age_bucket = '5-9'\n",
    "    elif  10 <= age < 15:\n",
    "        age_bucket = '10-14'\n",
    "    elif  15 <= age < 20:\n",
    "        age_bucket = '15-19'\n",
    "    elif  20 <= age < 25:\n",
    "        age_bucket = '20-24'\n",
    "    elif  25 <= age < 30:\n",
    "        age_bucket = '25-29'\n",
    "    elif  30 <= age < 35:\n",
    "        age_bucket = '30-34'\n",
    "    elif  35 <= age < 40:\n",
    "        age_bucket = '35-39'\n",
    "    elif  40 <= age < 45:\n",
    "        age_bucket = '40-44'\n",
    "    elif  45 <= age < 50:\n",
    "        age_bucket = '45-49'\n",
    "    elif  50 <= age < 55:\n",
    "        age_bucket = '50-54'\n",
    "    elif  55 <= age < 60:\n",
    "        age_bucket = '55-59'\n",
    "    elif  60 <= age < 65:\n",
    "        age_bucket = '60-64'\n",
    "    elif  65 <= age < 70:\n",
    "        age_bucket = '65-69'\n",
    "    elif  70 <= age < 75:\n",
    "        age_bucket = '70-74'\n",
    "    elif  75 <= age < 80:\n",
    "        age_bucket = '75-79'\n",
    "    elif  80 <= age < 85:\n",
    "        age_bucket = '80-84'\n",
    "    elif  85 <= age < 90:\n",
    "        age_bucket = '85-89'\n",
    "    elif  90 <= age < 95:\n",
    "        age_bucket = '90-94'\n",
    "    elif  95 <= age < 100:\n",
    "        age_bucket = '95-99'\n",
    "    else:\n",
    "        age_bucket = '100+'\n",
    "\n",
    "    if math.isnan(age):\n",
    "        value = age_df['population_in_thousands'].mean()\n",
    "    else:\n",
    "        value = age_df.loc[(age_df['age_bucket'] == age_bucket) & (age_df['country_destination'] == country_destination) & (age_df['gender'] == gender)]['population_in_thousands']\n",
    "        if len(value):\n",
    "            value = value.values[0]\n",
    "        else:\n",
    "            value = age_df['population_in_thousands'].mean()\n",
    "\n",
    "    population_in_thousands.append(value)\n",
    "        "
   ]
  },
  {
   "cell_type": "code",
   "execution_count": 36,
   "id": "6b1573c9",
   "metadata": {},
   "outputs": [],
   "source": [
    "merged_df['population_in_thousands'] = population_in_thousands"
   ]
  },
  {
   "cell_type": "code",
   "execution_count": 37,
   "id": "ab0b50e1",
   "metadata": {},
   "outputs": [
    {
     "data": {
      "text/plain": [
       "(213451, 26)"
      ]
     },
     "execution_count": 37,
     "metadata": {},
     "output_type": "execute_result"
    }
   ],
   "source": [
    "merged_df.shape"
   ]
  },
  {
   "cell_type": "code",
   "execution_count": 38,
   "id": "c16c638a",
   "metadata": {},
   "outputs": [
    {
     "data": {
      "text/html": [
       "<div>\n",
       "<style scoped>\n",
       "    .dataframe tbody tr th:only-of-type {\n",
       "        vertical-align: middle;\n",
       "    }\n",
       "\n",
       "    .dataframe tbody tr th {\n",
       "        vertical-align: top;\n",
       "    }\n",
       "\n",
       "    .dataframe thead th {\n",
       "        text-align: right;\n",
       "    }\n",
       "</style>\n",
       "<table border=\"1\" class=\"dataframe\">\n",
       "  <thead>\n",
       "    <tr style=\"text-align: right;\">\n",
       "      <th></th>\n",
       "      <th>id</th>\n",
       "      <th>timestamp_first_active</th>\n",
       "      <th>gender</th>\n",
       "      <th>age</th>\n",
       "      <th>signup_method</th>\n",
       "      <th>signup_flow</th>\n",
       "      <th>language</th>\n",
       "      <th>affiliate_channel</th>\n",
       "      <th>affiliate_provider</th>\n",
       "      <th>first_affiliate_tracked</th>\n",
       "      <th>...</th>\n",
       "      <th>account_created_year</th>\n",
       "      <th>account_created_month</th>\n",
       "      <th>lat_destination</th>\n",
       "      <th>lng_destination</th>\n",
       "      <th>distance_km</th>\n",
       "      <th>destination_km2</th>\n",
       "      <th>destination_language</th>\n",
       "      <th>language_levenshtein_distance</th>\n",
       "      <th>secs_elapsed</th>\n",
       "      <th>population_in_thousands</th>\n",
       "    </tr>\n",
       "  </thead>\n",
       "  <tbody>\n",
       "    <tr>\n",
       "      <th>0</th>\n",
       "      <td>gxn3p5htnn</td>\n",
       "      <td>20090319043255</td>\n",
       "      <td>-unknown-</td>\n",
       "      <td>NaN</td>\n",
       "      <td>facebook</td>\n",
       "      <td>0</td>\n",
       "      <td>en</td>\n",
       "      <td>direct</td>\n",
       "      <td>direct</td>\n",
       "      <td>untracked</td>\n",
       "      <td>...</td>\n",
       "      <td>2010</td>\n",
       "      <td>June</td>\n",
       "      <td>NaN</td>\n",
       "      <td>NaN</td>\n",
       "      <td>NaN</td>\n",
       "      <td>NaN</td>\n",
       "      <td>NaN</td>\n",
       "      <td>NaN</td>\n",
       "      <td>NaN</td>\n",
       "      <td>1743.133333</td>\n",
       "    </tr>\n",
       "    <tr>\n",
       "      <th>1</th>\n",
       "      <td>820tgsjxq7</td>\n",
       "      <td>20090523174809</td>\n",
       "      <td>MALE</td>\n",
       "      <td>38.0</td>\n",
       "      <td>facebook</td>\n",
       "      <td>0</td>\n",
       "      <td>en</td>\n",
       "      <td>seo</td>\n",
       "      <td>google</td>\n",
       "      <td>untracked</td>\n",
       "      <td>...</td>\n",
       "      <td>2011</td>\n",
       "      <td>May</td>\n",
       "      <td>NaN</td>\n",
       "      <td>NaN</td>\n",
       "      <td>NaN</td>\n",
       "      <td>NaN</td>\n",
       "      <td>NaN</td>\n",
       "      <td>NaN</td>\n",
       "      <td>NaN</td>\n",
       "      <td>1743.133333</td>\n",
       "    </tr>\n",
       "    <tr>\n",
       "      <th>2</th>\n",
       "      <td>4ft3gnwmtx</td>\n",
       "      <td>20090609231247</td>\n",
       "      <td>FEMALE</td>\n",
       "      <td>56.0</td>\n",
       "      <td>basic</td>\n",
       "      <td>3</td>\n",
       "      <td>en</td>\n",
       "      <td>direct</td>\n",
       "      <td>direct</td>\n",
       "      <td>untracked</td>\n",
       "      <td>...</td>\n",
       "      <td>2010</td>\n",
       "      <td>September</td>\n",
       "      <td>36.966427</td>\n",
       "      <td>-95.84403</td>\n",
       "      <td>0.0</td>\n",
       "      <td>9826675.0</td>\n",
       "      <td>eng</td>\n",
       "      <td>0.0</td>\n",
       "      <td>NaN</td>\n",
       "      <td>11264.000000</td>\n",
       "    </tr>\n",
       "    <tr>\n",
       "      <th>3</th>\n",
       "      <td>bjjt8pjhuk</td>\n",
       "      <td>20091031060129</td>\n",
       "      <td>FEMALE</td>\n",
       "      <td>42.0</td>\n",
       "      <td>facebook</td>\n",
       "      <td>0</td>\n",
       "      <td>en</td>\n",
       "      <td>direct</td>\n",
       "      <td>direct</td>\n",
       "      <td>untracked</td>\n",
       "      <td>...</td>\n",
       "      <td>2011</td>\n",
       "      <td>December</td>\n",
       "      <td>NaN</td>\n",
       "      <td>NaN</td>\n",
       "      <td>NaN</td>\n",
       "      <td>NaN</td>\n",
       "      <td>NaN</td>\n",
       "      <td>NaN</td>\n",
       "      <td>NaN</td>\n",
       "      <td>1743.133333</td>\n",
       "    </tr>\n",
       "    <tr>\n",
       "      <th>4</th>\n",
       "      <td>87mebub9p4</td>\n",
       "      <td>20091208061105</td>\n",
       "      <td>-unknown-</td>\n",
       "      <td>41.0</td>\n",
       "      <td>basic</td>\n",
       "      <td>0</td>\n",
       "      <td>en</td>\n",
       "      <td>direct</td>\n",
       "      <td>direct</td>\n",
       "      <td>untracked</td>\n",
       "      <td>...</td>\n",
       "      <td>2010</td>\n",
       "      <td>September</td>\n",
       "      <td>36.966427</td>\n",
       "      <td>-95.84403</td>\n",
       "      <td>0.0</td>\n",
       "      <td>9826675.0</td>\n",
       "      <td>eng</td>\n",
       "      <td>0.0</td>\n",
       "      <td>NaN</td>\n",
       "      <td>1743.133333</td>\n",
       "    </tr>\n",
       "  </tbody>\n",
       "</table>\n",
       "<p>5 rows × 26 columns</p>\n",
       "</div>"
      ],
      "text/plain": [
       "           id  timestamp_first_active     gender   age signup_method  \\\n",
       "0  gxn3p5htnn          20090319043255  -unknown-   NaN      facebook   \n",
       "1  820tgsjxq7          20090523174809       MALE  38.0      facebook   \n",
       "2  4ft3gnwmtx          20090609231247     FEMALE  56.0         basic   \n",
       "3  bjjt8pjhuk          20091031060129     FEMALE  42.0      facebook   \n",
       "4  87mebub9p4          20091208061105  -unknown-  41.0         basic   \n",
       "\n",
       "   signup_flow language affiliate_channel affiliate_provider  \\\n",
       "0            0       en            direct             direct   \n",
       "1            0       en               seo             google   \n",
       "2            3       en            direct             direct   \n",
       "3            0       en            direct             direct   \n",
       "4            0       en            direct             direct   \n",
       "\n",
       "  first_affiliate_tracked  ... account_created_year account_created_month  \\\n",
       "0               untracked  ...                 2010                  June   \n",
       "1               untracked  ...                 2011                   May   \n",
       "2               untracked  ...                 2010             September   \n",
       "3               untracked  ...                 2011              December   \n",
       "4               untracked  ...                 2010             September   \n",
       "\n",
       "  lat_destination lng_destination  distance_km destination_km2  \\\n",
       "0             NaN             NaN          NaN             NaN   \n",
       "1             NaN             NaN          NaN             NaN   \n",
       "2       36.966427       -95.84403          0.0       9826675.0   \n",
       "3             NaN             NaN          NaN             NaN   \n",
       "4       36.966427       -95.84403          0.0       9826675.0   \n",
       "\n",
       "   destination_language  language_levenshtein_distance  secs_elapsed  \\\n",
       "0                    NaN                           NaN           NaN   \n",
       "1                    NaN                           NaN           NaN   \n",
       "2                    eng                           0.0           NaN   \n",
       "3                    NaN                           NaN           NaN   \n",
       "4                    eng                           0.0           NaN   \n",
       "\n",
       "   population_in_thousands  \n",
       "0              1743.133333  \n",
       "1              1743.133333  \n",
       "2             11264.000000  \n",
       "3              1743.133333  \n",
       "4              1743.133333  \n",
       "\n",
       "[5 rows x 26 columns]"
      ]
     },
     "execution_count": 38,
     "metadata": {},
     "output_type": "execute_result"
    }
   ],
   "source": [
    "merged_df.head()"
   ]
  },
  {
   "cell_type": "code",
   "execution_count": 49,
   "id": "616d1933",
   "metadata": {},
   "outputs": [],
   "source": [
    "# Save the merged data for further uses\n",
    "merged_df.to_csv(os.path.join(data_dir, 'airbnb_data_raw.csv'), index=False)"
   ]
  },
  {
   "cell_type": "markdown",
   "id": "31c4a0f3",
   "metadata": {},
   "source": [
    "## Data preprocessing"
   ]
  },
  {
   "cell_type": "code",
   "execution_count": 50,
   "id": "c04f06b3",
   "metadata": {},
   "outputs": [],
   "source": [
    "merged_df = pd.read_csv(os.path.join(data_dir, 'airbnb_data_raw.csv'), encoding='latin-1')"
   ]
  },
  {
   "cell_type": "code",
   "execution_count": 51,
   "id": "54b64118",
   "metadata": {},
   "outputs": [],
   "source": [
    "numerical_cols = list(merged_df.select_dtypes(include=['number']))\n",
    "categorical_cols = list(merged_df.select_dtypes(include=['object', 'category']))"
   ]
  },
  {
   "cell_type": "code",
   "execution_count": 52,
   "id": "94f22546",
   "metadata": {},
   "outputs": [
    {
     "data": {
      "text/plain": [
       "['timestamp_first_active',\n",
       " 'age',\n",
       " 'signup_flow',\n",
       " 'first_booking_year',\n",
       " 'account_created_year',\n",
       " 'lat_destination',\n",
       " 'lng_destination',\n",
       " 'distance_km',\n",
       " 'destination_km2',\n",
       " 'language_levenshtein_distance',\n",
       " 'secs_elapsed',\n",
       " 'population_in_thousands']"
      ]
     },
     "execution_count": 52,
     "metadata": {},
     "output_type": "execute_result"
    }
   ],
   "source": [
    "numerical_cols"
   ]
  },
  {
   "cell_type": "code",
   "execution_count": 53,
   "id": "fa2b3f3f",
   "metadata": {},
   "outputs": [
    {
     "data": {
      "text/plain": [
       "['id',\n",
       " 'gender',\n",
       " 'signup_method',\n",
       " 'language',\n",
       " 'affiliate_channel',\n",
       " 'affiliate_provider',\n",
       " 'first_affiliate_tracked',\n",
       " 'signup_app',\n",
       " 'first_device_type',\n",
       " 'first_browser',\n",
       " 'country_destination',\n",
       " 'first_booking_month',\n",
       " 'account_created_month',\n",
       " 'destination_language ']"
      ]
     },
     "execution_count": 53,
     "metadata": {},
     "output_type": "execute_result"
    }
   ],
   "source": [
    "categorical_cols"
   ]
  },
  {
   "cell_type": "markdown",
   "id": "5fc277ea",
   "metadata": {},
   "source": [
    "### Outlier detection and handling"
   ]
  },
  {
   "cell_type": "code",
   "execution_count": 55,
   "id": "501bec45",
   "metadata": {},
   "outputs": [
    {
     "data": {
      "text/html": [
       "<div>\n",
       "<style scoped>\n",
       "    .dataframe tbody tr th:only-of-type {\n",
       "        vertical-align: middle;\n",
       "    }\n",
       "\n",
       "    .dataframe tbody tr th {\n",
       "        vertical-align: top;\n",
       "    }\n",
       "\n",
       "    .dataframe thead th {\n",
       "        text-align: right;\n",
       "    }\n",
       "</style>\n",
       "<table border=\"1\" class=\"dataframe\">\n",
       "  <thead>\n",
       "    <tr style=\"text-align: right;\">\n",
       "      <th></th>\n",
       "      <th>timestamp_first_active</th>\n",
       "      <th>age</th>\n",
       "      <th>signup_flow</th>\n",
       "      <th>first_booking_year</th>\n",
       "      <th>account_created_year</th>\n",
       "      <th>lat_destination</th>\n",
       "      <th>lng_destination</th>\n",
       "      <th>distance_km</th>\n",
       "      <th>destination_km2</th>\n",
       "      <th>language_levenshtein_distance</th>\n",
       "      <th>secs_elapsed</th>\n",
       "      <th>population_in_thousands</th>\n",
       "    </tr>\n",
       "  </thead>\n",
       "  <tbody>\n",
       "    <tr>\n",
       "      <th>count</th>\n",
       "      <td>2.134510e+05</td>\n",
       "      <td>125461.000000</td>\n",
       "      <td>213451.000000</td>\n",
       "      <td>88908.000000</td>\n",
       "      <td>213451.000000</td>\n",
       "      <td>78814.000000</td>\n",
       "      <td>78814.000000</td>\n",
       "      <td>78814.000000</td>\n",
       "      <td>7.881400e+04</td>\n",
       "      <td>78814.000000</td>\n",
       "      <td>7.381500e+04</td>\n",
       "      <td>213451.000000</td>\n",
       "    </tr>\n",
       "    <tr>\n",
       "      <th>mean</th>\n",
       "      <td>2.013085e+13</td>\n",
       "      <td>49.668335</td>\n",
       "      <td>3.267387</td>\n",
       "      <td>2013.042842</td>\n",
       "      <td>2013.023846</td>\n",
       "      <td>38.707180</td>\n",
       "      <td>-76.105982</td>\n",
       "      <td>1578.833779</td>\n",
       "      <td>8.089941e+06</td>\n",
       "      <td>13.566906</td>\n",
       "      <td>1.514235e+06</td>\n",
       "      <td>3390.746669</td>\n",
       "    </tr>\n",
       "    <tr>\n",
       "      <th>std</th>\n",
       "      <td>9.253717e+09</td>\n",
       "      <td>155.666612</td>\n",
       "      <td>7.637707</td>\n",
       "      <td>1.016404</td>\n",
       "      <td>0.938489</td>\n",
       "      <td>7.568499</td>\n",
       "      <td>42.164031</td>\n",
       "      <td>3214.444879</td>\n",
       "      <td>3.637749e+06</td>\n",
       "      <td>31.954945</td>\n",
       "      <td>1.913191e+06</td>\n",
       "      <td>3500.292656</td>\n",
       "    </tr>\n",
       "    <tr>\n",
       "      <th>min</th>\n",
       "      <td>2.009032e+13</td>\n",
       "      <td>1.000000</td>\n",
       "      <td>0.000000</td>\n",
       "      <td>2010.000000</td>\n",
       "      <td>2010.000000</td>\n",
       "      <td>-26.853388</td>\n",
       "      <td>-96.818146</td>\n",
       "      <td>0.000000</td>\n",
       "      <td>4.154300e+04</td>\n",
       "      <td>0.000000</td>\n",
       "      <td>0.000000e+00</td>\n",
       "      <td>0.000000</td>\n",
       "    </tr>\n",
       "    <tr>\n",
       "      <th>25%</th>\n",
       "      <td>2.012123e+13</td>\n",
       "      <td>28.000000</td>\n",
       "      <td>0.000000</td>\n",
       "      <td>2012.000000</td>\n",
       "      <td>2012.000000</td>\n",
       "      <td>36.966427</td>\n",
       "      <td>-95.844030</td>\n",
       "      <td>0.000000</td>\n",
       "      <td>9.826675e+06</td>\n",
       "      <td>0.000000</td>\n",
       "      <td>2.569205e+05</td>\n",
       "      <td>1743.133333</td>\n",
       "    </tr>\n",
       "    <tr>\n",
       "      <th>50%</th>\n",
       "      <td>2.013091e+13</td>\n",
       "      <td>34.000000</td>\n",
       "      <td>0.000000</td>\n",
       "      <td>2013.000000</td>\n",
       "      <td>2013.000000</td>\n",
       "      <td>36.966427</td>\n",
       "      <td>-95.844030</td>\n",
       "      <td>0.000000</td>\n",
       "      <td>9.826675e+06</td>\n",
       "      <td>0.000000</td>\n",
       "      <td>8.728620e+05</td>\n",
       "      <td>1743.133333</td>\n",
       "    </tr>\n",
       "    <tr>\n",
       "      <th>75%</th>\n",
       "      <td>2.014031e+13</td>\n",
       "      <td>43.000000</td>\n",
       "      <td>0.000000</td>\n",
       "      <td>2014.000000</td>\n",
       "      <td>2014.000000</td>\n",
       "      <td>36.966427</td>\n",
       "      <td>-95.844030</td>\n",
       "      <td>0.000000</td>\n",
       "      <td>9.826675e+06</td>\n",
       "      <td>0.000000</td>\n",
       "      <td>2.043488e+06</td>\n",
       "      <td>1743.133333</td>\n",
       "    </tr>\n",
       "    <tr>\n",
       "      <th>max</th>\n",
       "      <td>2.014063e+13</td>\n",
       "      <td>2014.000000</td>\n",
       "      <td>25.000000</td>\n",
       "      <td>2015.000000</td>\n",
       "      <td>2014.000000</td>\n",
       "      <td>62.393303</td>\n",
       "      <td>133.275160</td>\n",
       "      <td>15297.744000</td>\n",
       "      <td>9.984670e+06</td>\n",
       "      <td>95.450000</td>\n",
       "      <td>3.822136e+07</td>\n",
       "      <td>11601.000000</td>\n",
       "    </tr>\n",
       "  </tbody>\n",
       "</table>\n",
       "</div>"
      ],
      "text/plain": [
       "       timestamp_first_active            age    signup_flow  \\\n",
       "count            2.134510e+05  125461.000000  213451.000000   \n",
       "mean             2.013085e+13      49.668335       3.267387   \n",
       "std              9.253717e+09     155.666612       7.637707   \n",
       "min              2.009032e+13       1.000000       0.000000   \n",
       "25%              2.012123e+13      28.000000       0.000000   \n",
       "50%              2.013091e+13      34.000000       0.000000   \n",
       "75%              2.014031e+13      43.000000       0.000000   \n",
       "max              2.014063e+13    2014.000000      25.000000   \n",
       "\n",
       "       first_booking_year  account_created_year  lat_destination  \\\n",
       "count        88908.000000         213451.000000     78814.000000   \n",
       "mean          2013.042842           2013.023846        38.707180   \n",
       "std              1.016404              0.938489         7.568499   \n",
       "min           2010.000000           2010.000000       -26.853388   \n",
       "25%           2012.000000           2012.000000        36.966427   \n",
       "50%           2013.000000           2013.000000        36.966427   \n",
       "75%           2014.000000           2014.000000        36.966427   \n",
       "max           2015.000000           2014.000000        62.393303   \n",
       "\n",
       "       lng_destination   distance_km  destination_km2  \\\n",
       "count     78814.000000  78814.000000     7.881400e+04   \n",
       "mean        -76.105982   1578.833779     8.089941e+06   \n",
       "std          42.164031   3214.444879     3.637749e+06   \n",
       "min         -96.818146      0.000000     4.154300e+04   \n",
       "25%         -95.844030      0.000000     9.826675e+06   \n",
       "50%         -95.844030      0.000000     9.826675e+06   \n",
       "75%         -95.844030      0.000000     9.826675e+06   \n",
       "max         133.275160  15297.744000     9.984670e+06   \n",
       "\n",
       "       language_levenshtein_distance  secs_elapsed  population_in_thousands  \n",
       "count                   78814.000000  7.381500e+04            213451.000000  \n",
       "mean                       13.566906  1.514235e+06              3390.746669  \n",
       "std                        31.954945  1.913191e+06              3500.292656  \n",
       "min                         0.000000  0.000000e+00                 0.000000  \n",
       "25%                         0.000000  2.569205e+05              1743.133333  \n",
       "50%                         0.000000  8.728620e+05              1743.133333  \n",
       "75%                         0.000000  2.043488e+06              1743.133333  \n",
       "max                        95.450000  3.822136e+07             11601.000000  "
      ]
     },
     "execution_count": 55,
     "metadata": {},
     "output_type": "execute_result"
    }
   ],
   "source": [
    "merged_df.describe()"
   ]
  },
  {
   "cell_type": "markdown",
   "id": "bfa62b4d",
   "metadata": {},
   "source": [
    "#### timestamp_first_active"
   ]
  },
  {
   "cell_type": "code",
   "execution_count": 56,
   "id": "1f5185dc",
   "metadata": {},
   "outputs": [
    {
     "data": {
      "image/png": "[encoded data removed]",
      "text/plain": [
       "<Figure size 640x480 with 1 Axes>"
      ]
     },
     "metadata": {},
     "output_type": "display_data"
    }
   ],
   "source": [
    "merged_df.boxplot(column=['timestamp_first_active'], return_type='axes')\n",
    "plt.show()"
   ]
  },
  {
   "cell_type": "code",
   "execution_count": 57,
   "id": "6301e138",
   "metadata": {},
   "outputs": [],
   "source": [
    "# Finding the quartile range\n",
    "\n",
    "col = 'timestamp_first_active'\n",
    "\n",
    "q1 = np.percentile(merged_df[col].dropna(), 25, method='midpoint')\n",
    "q3 = np.percentile(merged_df[col].dropna(), 75, method='midpoint')\n",
    "iqr = q3 - q1\n",
    "\n",
    "upper = q3 + 1.5 * iqr\n",
    "lower = q1 - 1.5 * iqr\n"
   ]
  },
  {
   "cell_type": "code",
   "execution_count": 58,
   "id": "01b62b6c",
   "metadata": {},
   "outputs": [],
   "source": [
    "# Clipping the outliers\n",
    "\n",
    "merged_df[col] = np.where(merged_df[col] <= lower, lower, merged_df[col])\n",
    "merged_df[col] = np.where(merged_df[col] >= upper, upper, merged_df[col])\n"
   ]
  },
  {
   "cell_type": "markdown",
   "id": "2aec22c1",
   "metadata": {},
   "source": [
    "#### age"
   ]
  },
  {
   "cell_type": "code",
   "execution_count": 59,
   "id": "e357bcc3",
   "metadata": {},
   "outputs": [],
   "source": [
    "col = 'age'"
   ]
  },
  {
   "cell_type": "code",
   "execution_count": 60,
   "id": "56124890",
   "metadata": {},
   "outputs": [
    {
     "data": {
      "image/png": "[encoded data removed]",
      "text/plain": [
       "<Figure size 640x480 with 1 Axes>"
      ]
     },
     "metadata": {},
     "output_type": "display_data"
    }
   ],
   "source": [
    "merged_df.boxplot(column=[col], return_type='axes')\n",
    "plt.show()"
   ]
  },
  {
   "cell_type": "code",
   "execution_count": 61,
   "id": "b8492a97",
   "metadata": {},
   "outputs": [],
   "source": [
    "# In age we can directly define min and max age\n",
    "upper = 120.0\n",
    "lower = 16.0\n",
    "\n",
    "# Clipping the outliers\n",
    "merged_df[col] = np.where(merged_df[col] <= lower, lower, merged_df[col])\n",
    "merged_df[col] = np.where(merged_df[col] >= upper, upper, merged_df[col])\n"
   ]
  },
  {
   "cell_type": "code",
   "execution_count": 62,
   "id": "5d90d0cd",
   "metadata": {},
   "outputs": [
    {
     "data": {
      "text/plain": [
       "(16.0, 120.0)"
      ]
     },
     "execution_count": 62,
     "metadata": {},
     "output_type": "execute_result"
    }
   ],
   "source": [
    "merged_df['age'].min(), merged_df['age'].max()"
   ]
  },
  {
   "cell_type": "markdown",
   "id": "bc9238c3",
   "metadata": {},
   "source": [
    "#### signup_flow"
   ]
  },
  {
   "cell_type": "code",
   "execution_count": 63,
   "id": "6fa4cfe2",
   "metadata": {},
   "outputs": [],
   "source": [
    "col = 'signup_flow'"
   ]
  },
  {
   "cell_type": "code",
   "execution_count": 64,
   "id": "ea43818f",
   "metadata": {},
   "outputs": [
    {
     "data": {
      "image/png": "[encoded data removed]",
      "text/plain": [
       "<Figure size 640x480 with 1 Axes>"
      ]
     },
     "metadata": {},
     "output_type": "display_data"
    }
   ],
   "source": [
    "merged_df.boxplot(column=[col], return_type='axes')\n",
    "plt.show()"
   ]
  },
  {
   "cell_type": "code",
   "execution_count": 65,
   "id": "9ab9a236",
   "metadata": {},
   "outputs": [
    {
     "data": {
      "text/plain": [
       "(0, 25)"
      ]
     },
     "execution_count": 65,
     "metadata": {},
     "output_type": "execute_result"
    }
   ],
   "source": [
    "merged_df[col].min(), merged_df[col].max()"
   ]
  },
  {
   "cell_type": "code",
   "execution_count": 66,
   "id": "3d497e52",
   "metadata": {},
   "outputs": [
    {
     "data": {
      "text/plain": [
       "count    213451.000000\n",
       "mean          3.267387\n",
       "std           7.637707\n",
       "min           0.000000\n",
       "25%           0.000000\n",
       "50%           0.000000\n",
       "75%           0.000000\n",
       "max          25.000000\n",
       "Name: signup_flow, dtype: float64"
      ]
     },
     "execution_count": 66,
     "metadata": {},
     "output_type": "execute_result"
    }
   ],
   "source": [
    "merged_df[col].describe()"
   ]
  },
  {
   "cell_type": "code",
   "execution_count": 67,
   "id": "7003a08a",
   "metadata": {},
   "outputs": [
    {
     "name": "stdout",
     "output_type": "stream",
     "text": [
      "0.0 0.0\n"
     ]
    }
   ],
   "source": [
    "q1 = np.percentile(merged_df[col].dropna(), 25, method='midpoint')\n",
    "q3 = np.percentile(merged_df[col].dropna(), 75, method='midpoint')\n",
    "iqr = q3 - q1\n",
    "\n",
    "upper = q3 + 1.5 * iqr\n",
    "lower = q1 - 1.5 * iqr\n",
    "\n",
    "print(lower, upper)"
   ]
  },
  {
   "cell_type": "code",
   "execution_count": 68,
   "id": "046b6952",
   "metadata": {},
   "outputs": [],
   "source": [
    "# As we see almost all the values are 0.0, then removing or capping outliers might lead to losing information, "
   ]
  },
  {
   "cell_type": "markdown",
   "id": "5714673b",
   "metadata": {},
   "source": [
    "#### secs_elapsed"
   ]
  },
  {
   "cell_type": "code",
   "execution_count": 69,
   "id": "bf8e8020",
   "metadata": {},
   "outputs": [],
   "source": [
    "col = 'secs_elapsed'"
   ]
  },
  {
   "cell_type": "code",
   "execution_count": 70,
   "id": "3c62fa1d",
   "metadata": {},
   "outputs": [
    {
     "data": {
      "image/png": "[encoded data removed]",
      "text/plain": [
       "<Figure size 640x480 with 1 Axes>"
      ]
     },
     "metadata": {},
     "output_type": "display_data"
    }
   ],
   "source": [
    "merged_df.boxplot(column=[col], return_type='axes')\n",
    "plt.show()"
   ]
  },
  {
   "cell_type": "code",
   "execution_count": 71,
   "id": "fbb03b56",
   "metadata": {},
   "outputs": [
    {
     "name": "stdout",
     "output_type": "stream",
     "text": [
      "-2422930.0 4723338.0\n"
     ]
    }
   ],
   "source": [
    "q1 = np.percentile(merged_df[col].dropna(), 25, method='midpoint')\n",
    "q3 = np.percentile(merged_df[col].dropna(), 75, method='midpoint')\n",
    "iqr = q3 - q1\n",
    "\n",
    "upper = q3 + 1.5 * iqr\n",
    "lower = q1 - 1.5 * iqr\n",
    "\n",
    "print(lower, upper)"
   ]
  },
  {
   "cell_type": "markdown",
   "id": "32f5c052",
   "metadata": {},
   "source": [
    "#### population_in_thousands"
   ]
  },
  {
   "cell_type": "code",
   "execution_count": 72,
   "id": "beb4f3f7",
   "metadata": {},
   "outputs": [],
   "source": [
    "col = 'population_in_thousands'"
   ]
  },
  {
   "cell_type": "code",
   "execution_count": 73,
   "id": "df858678",
   "metadata": {},
   "outputs": [
    {
     "data": {
      "image/png": "[encoded data removed]",
      "text/plain": [
       "<Figure size 640x480 with 1 Axes>"
      ]
     },
     "metadata": {},
     "output_type": "display_data"
    }
   ],
   "source": [
    "merged_df.boxplot(column=[col], return_type='axes')\n",
    "plt.show()"
   ]
  },
  {
   "cell_type": "code",
   "execution_count": 74,
   "id": "397a1413",
   "metadata": {},
   "outputs": [
    {
     "name": "stdout",
     "output_type": "stream",
     "text": [
      "1743.1333333333334 1743.1333333333334\n"
     ]
    }
   ],
   "source": [
    "q1 = np.percentile(merged_df[col].dropna(), 25, method='midpoint')\n",
    "q3 = np.percentile(merged_df[col].dropna(), 75, method='midpoint')\n",
    "iqr = q3 - q1\n",
    "\n",
    "upper = q3 + 1.5 * iqr\n",
    "lower = q1 - 1.5 * iqr\n",
    "\n",
    "print(lower, upper)"
   ]
  },
  {
   "cell_type": "code",
   "execution_count": 75,
   "id": "4e53ba9a",
   "metadata": {},
   "outputs": [
    {
     "data": {
      "text/plain": [
       "45993"
      ]
     },
     "execution_count": 75,
     "metadata": {},
     "output_type": "execute_result"
    }
   ],
   "source": [
    "len(merged_df[merged_df[col] > upper])"
   ]
  },
  {
   "cell_type": "code",
   "execution_count": 76,
   "id": "e64e3ba6",
   "metadata": {},
   "outputs": [
    {
     "data": {
      "text/plain": [
       "4128"
      ]
     },
     "execution_count": 76,
     "metadata": {},
     "output_type": "execute_result"
    }
   ],
   "source": [
    "len(merged_df[merged_df[col] < lower])"
   ]
  },
  {
   "cell_type": "markdown",
   "id": "a5fa57ae",
   "metadata": {},
   "source": [
    "#### We will not be removing outlier for other columns that might lose information"
   ]
  },
  {
   "cell_type": "markdown",
   "id": "5bf794bf",
   "metadata": {},
   "source": [
    "### Missing Data Handling"
   ]
  },
  {
   "cell_type": "code",
   "execution_count": 77,
   "id": "40752c8f",
   "metadata": {},
   "outputs": [
    {
     "data": {
      "text/plain": [
       "(213451, 26)"
      ]
     },
     "execution_count": 77,
     "metadata": {},
     "output_type": "execute_result"
    }
   ],
   "source": [
    "merged_df.shape"
   ]
  },
  {
   "cell_type": "code",
   "execution_count": 78,
   "id": "d9c24f37",
   "metadata": {},
   "outputs": [
    {
     "data": {
      "text/plain": [
       "id                                    0\n",
       "timestamp_first_active                0\n",
       "gender                                0\n",
       "age                               87990\n",
       "signup_method                         0\n",
       "signup_flow                           0\n",
       "language                              0\n",
       "affiliate_channel                     0\n",
       "affiliate_provider                    0\n",
       "first_affiliate_tracked            6065\n",
       "signup_app                            0\n",
       "first_device_type                     0\n",
       "first_browser                         0\n",
       "country_destination                   0\n",
       "first_booking_year               124543\n",
       "first_booking_month              124543\n",
       "account_created_year                  0\n",
       "account_created_month                 0\n",
       "lat_destination                  134637\n",
       "lng_destination                  134637\n",
       "distance_km                      134637\n",
       "destination_km2                  134637\n",
       "destination_language             134637\n",
       "language_levenshtein_distance    134637\n",
       "secs_elapsed                     139636\n",
       "population_in_thousands               0\n",
       "dtype: int64"
      ]
     },
     "execution_count": 78,
     "metadata": {},
     "output_type": "execute_result"
    }
   ],
   "source": [
    "merged_df.isna().sum()"
   ]
  },
  {
   "cell_type": "code",
   "execution_count": 187,
   "id": "59ef0854",
   "metadata": {},
   "outputs": [
    {
     "data": {
      "text/plain": [
       "['./numerical_imp.joblib']"
      ]
     },
     "execution_count": 187,
     "metadata": {},
     "output_type": "execute_result"
    }
   ],
   "source": [
    "# Handling missing data for numerical columns using meadin method\n",
    "\n",
    "numerical_imp = SimpleImputer(strategy='median')\n",
    "numerical_imp_df = numerical_imp.fit_transform(merged_df[numerical_cols])\n",
    "for index, col in enumerate(numerical_cols):\n",
    "    merged_df[col] = numerical_imp_df[:, index]\n",
    "    \n",
    "joblib.dump(numerical_imp, os.path.join(data_dir, \"numerical_imp.joblib\"))"
   ]
  },
  {
   "cell_type": "code",
   "execution_count": 188,
   "id": "18d34736",
   "metadata": {},
   "outputs": [
    {
     "data": {
      "text/plain": [
       "['./categorical_imp.joblib']"
      ]
     },
     "execution_count": 188,
     "metadata": {},
     "output_type": "execute_result"
    }
   ],
   "source": [
    "# Handling categorical column missing values\n",
    "\n",
    "categorical_imp = SimpleImputer(strategy='most_frequent')\n",
    "categorical_imp_df = categorical_imp.fit_transform(merged_df[categorical_cols])\n",
    "for index, col in enumerate(categorical_cols):\n",
    "    merged_df[col] = categorical_imp_df[:, index]\n",
    "\n",
    "joblib.dump(categorical_imp, os.path.join(data_dir, \"categorical_imp.joblib\"))"
   ]
  },
  {
   "cell_type": "code",
   "execution_count": 81,
   "id": "ddb2081a",
   "metadata": {},
   "outputs": [
    {
     "data": {
      "text/plain": [
       "id                               0\n",
       "timestamp_first_active           0\n",
       "gender                           0\n",
       "age                              0\n",
       "signup_method                    0\n",
       "signup_flow                      0\n",
       "language                         0\n",
       "affiliate_channel                0\n",
       "affiliate_provider               0\n",
       "first_affiliate_tracked          0\n",
       "signup_app                       0\n",
       "first_device_type                0\n",
       "first_browser                    0\n",
       "country_destination              0\n",
       "first_booking_year               0\n",
       "first_booking_month              0\n",
       "account_created_year             0\n",
       "account_created_month            0\n",
       "lat_destination                  0\n",
       "lng_destination                  0\n",
       "distance_km                      0\n",
       "destination_km2                  0\n",
       "destination_language             0\n",
       "language_levenshtein_distance    0\n",
       "secs_elapsed                     0\n",
       "population_in_thousands          0\n",
       "dtype: int64"
      ]
     },
     "execution_count": 81,
     "metadata": {},
     "output_type": "execute_result"
    }
   ],
   "source": [
    "merged_df.isna().sum()"
   ]
  },
  {
   "cell_type": "markdown",
   "id": "969915a0",
   "metadata": {},
   "source": [
    "### Handling duplicates"
   ]
  },
  {
   "cell_type": "code",
   "execution_count": 82,
   "id": "68d19240",
   "metadata": {},
   "outputs": [],
   "source": [
    "merged_df = merged_df.drop_duplicates(keep='first')"
   ]
  },
  {
   "cell_type": "markdown",
   "id": "883ec23f",
   "metadata": {},
   "source": [
    "## Feature Engineering"
   ]
  },
  {
   "cell_type": "markdown",
   "id": "36840c50",
   "metadata": {},
   "source": [
    "Calculate the correlation/strength-of-association of features in data-set with both categorical and continuous features using: * Pearson's R for continuous-continuous cases * Correlation Ratio for categorical-continuous cases * Cramer's V or Theil's U for categorical-categorical cases"
   ]
  },
  {
   "cell_type": "code",
   "execution_count": 90,
   "id": "b9588208",
   "metadata": {},
   "outputs": [],
   "source": [
    "y = merged_df['country_destination']\n",
    "X = merged_df.drop('country_destination', axis=1)"
   ]
  },
  {
   "cell_type": "code",
   "execution_count": 95,
   "id": "2db91b18",
   "metadata": {},
   "outputs": [
    {
     "data": {
      "text/plain": [
       "Index(['id', 'timestamp_first_active', 'gender', 'age', 'signup_method',\n",
       "       'signup_flow', 'language', 'affiliate_channel', 'affiliate_provider',\n",
       "       'first_affiliate_tracked', 'signup_app', 'first_device_type',\n",
       "       'first_browser', 'first_booking_year', 'first_booking_month',\n",
       "       'account_created_year', 'account_created_month', 'lat_destination',\n",
       "       'lng_destination', 'distance_km', 'destination_km2',\n",
       "       'destination_language ', 'language_levenshtein_distance',\n",
       "       'secs_elapsed', 'population_in_thousands'],\n",
       "      dtype='object')"
      ]
     },
     "execution_count": 95,
     "metadata": {},
     "output_type": "execute_result"
    }
   ],
   "source": [
    "X.columns"
   ]
  },
  {
   "cell_type": "code",
   "execution_count": 122,
   "id": "e0a34ea2",
   "metadata": {},
   "outputs": [],
   "source": [
    "class2id = dict()\n",
    "id2class = dict()\n",
    "\n",
    "for index, country in enumerate(y.unique()):\n",
    "    class2id[country] = index\n",
    "    id2class[index] = country"
   ]
  },
  {
   "cell_type": "code",
   "execution_count": 124,
   "id": "fa631e9c",
   "metadata": {},
   "outputs": [],
   "source": [
    "class_weights_dict = dict()\n",
    "class_weights = compute_class_weight(class_weight=\"balanced\", classes=np.unique(y), y=y)\n",
    "\n",
    "for cls, index in class2id.items():\n",
    "    class_weights_dict[index] = class_weights[index]\n"
   ]
  },
  {
   "cell_type": "code",
   "execution_count": 96,
   "id": "7f76996f",
   "metadata": {},
   "outputs": [],
   "source": [
    "# We can remove columns like lat_destination, lng_destination, destination_km2\n",
    "\n",
    "X = X.drop(['lat_destination', 'lng_destination', 'destination_km2'], axis = 1)"
   ]
  },
  {
   "cell_type": "code",
   "execution_count": 97,
   "id": "8aa28157",
   "metadata": {},
   "outputs": [
    {
     "name": "stderr",
     "output_type": "stream",
     "text": [
      "/Users/deveshparmar/python_venvs/genral_3_10/lib/python3.10/site-packages/dython/nominal.py:176: RuntimeWarning: Unable to calculate Cramer's V using bias correction. Consider using bias_correction=False (or cramers_v_bias_correction=False if calling from associations)\n",
      "  warnings.warn(\n",
      "/Users/deveshparmar/python_venvs/genral_3_10/lib/python3.10/site-packages/dython/nominal.py:176: RuntimeWarning: Unable to calculate Cramer's V using bias correction. Consider using bias_correction=False (or cramers_v_bias_correction=False if calling from associations)\n",
      "  warnings.warn(\n",
      "/Users/deveshparmar/python_venvs/genral_3_10/lib/python3.10/site-packages/dython/nominal.py:176: RuntimeWarning: Unable to calculate Cramer's V using bias correction. Consider using bias_correction=False (or cramers_v_bias_correction=False if calling from associations)\n",
      "  warnings.warn(\n",
      "/Users/deveshparmar/python_venvs/genral_3_10/lib/python3.10/site-packages/dython/nominal.py:176: RuntimeWarning: Unable to calculate Cramer's V using bias correction. Consider using bias_correction=False (or cramers_v_bias_correction=False if calling from associations)\n",
      "  warnings.warn(\n",
      "/Users/deveshparmar/python_venvs/genral_3_10/lib/python3.10/site-packages/dython/nominal.py:176: RuntimeWarning: Unable to calculate Cramer's V using bias correction. Consider using bias_correction=False (or cramers_v_bias_correction=False if calling from associations)\n",
      "  warnings.warn(\n",
      "/Users/deveshparmar/python_venvs/genral_3_10/lib/python3.10/site-packages/dython/nominal.py:176: RuntimeWarning: Unable to calculate Cramer's V using bias correction. Consider using bias_correction=False (or cramers_v_bias_correction=False if calling from associations)\n",
      "  warnings.warn(\n",
      "/Users/deveshparmar/python_venvs/genral_3_10/lib/python3.10/site-packages/dython/nominal.py:176: RuntimeWarning: Unable to calculate Cramer's V using bias correction. Consider using bias_correction=False (or cramers_v_bias_correction=False if calling from associations)\n",
      "  warnings.warn(\n",
      "/Users/deveshparmar/python_venvs/genral_3_10/lib/python3.10/site-packages/dython/nominal.py:176: RuntimeWarning: Unable to calculate Cramer's V using bias correction. Consider using bias_correction=False (or cramers_v_bias_correction=False if calling from associations)\n",
      "  warnings.warn(\n",
      "/Users/deveshparmar/python_venvs/genral_3_10/lib/python3.10/site-packages/dython/nominal.py:176: RuntimeWarning: Unable to calculate Cramer's V using bias correction. Consider using bias_correction=False (or cramers_v_bias_correction=False if calling from associations)\n",
      "  warnings.warn(\n",
      "/Users/deveshparmar/python_venvs/genral_3_10/lib/python3.10/site-packages/dython/nominal.py:176: RuntimeWarning: Unable to calculate Cramer's V using bias correction. Consider using bias_correction=False (or cramers_v_bias_correction=False if calling from associations)\n",
      "  warnings.warn(\n",
      "/Users/deveshparmar/python_venvs/genral_3_10/lib/python3.10/site-packages/dython/nominal.py:176: RuntimeWarning: Unable to calculate Cramer's V using bias correction. Consider using bias_correction=False (or cramers_v_bias_correction=False if calling from associations)\n",
      "  warnings.warn(\n",
      "/Users/deveshparmar/python_venvs/genral_3_10/lib/python3.10/site-packages/dython/nominal.py:176: RuntimeWarning: Unable to calculate Cramer's V using bias correction. Consider using bias_correction=False (or cramers_v_bias_correction=False if calling from associations)\n",
      "  warnings.warn(\n"
     ]
    },
    {
     "data": {
      "image/png": "[encoded data removed]",
      "text/plain": [
       "<Figure size 2500x2500 with 2 Axes>"
      ]
     },
     "metadata": {},
     "output_type": "display_data"
    }
   ],
   "source": [
    "# Finding correlation\n",
    "complete_correlation = associations(X, filename= 'complete_correlation.png', figsize=(25,25))"
   ]
  },
  {
   "cell_type": "code",
   "execution_count": 98,
   "id": "53cb0df7",
   "metadata": {},
   "outputs": [
    {
     "data": {
      "text/html": [
       "<div>\n",
       "<style scoped>\n",
       "    .dataframe tbody tr th:only-of-type {\n",
       "        vertical-align: middle;\n",
       "    }\n",
       "\n",
       "    .dataframe tbody tr th {\n",
       "        vertical-align: top;\n",
       "    }\n",
       "\n",
       "    .dataframe thead th {\n",
       "        text-align: right;\n",
       "    }\n",
       "</style>\n",
       "<table border=\"1\" class=\"dataframe\">\n",
       "  <thead>\n",
       "    <tr style=\"text-align: right;\">\n",
       "      <th></th>\n",
       "      <th>id</th>\n",
       "      <th>timestamp_first_active</th>\n",
       "      <th>gender</th>\n",
       "      <th>age</th>\n",
       "      <th>signup_method</th>\n",
       "      <th>signup_flow</th>\n",
       "      <th>language</th>\n",
       "      <th>affiliate_channel</th>\n",
       "      <th>affiliate_provider</th>\n",
       "      <th>first_affiliate_tracked</th>\n",
       "      <th>...</th>\n",
       "      <th>first_browser</th>\n",
       "      <th>first_booking_year</th>\n",
       "      <th>first_booking_month</th>\n",
       "      <th>account_created_year</th>\n",
       "      <th>account_created_month</th>\n",
       "      <th>distance_km</th>\n",
       "      <th>destination_language</th>\n",
       "      <th>language_levenshtein_distance</th>\n",
       "      <th>secs_elapsed</th>\n",
       "      <th>population_in_thousands</th>\n",
       "    </tr>\n",
       "  </thead>\n",
       "  <tbody>\n",
       "    <tr>\n",
       "      <th>id</th>\n",
       "      <td>1.0</td>\n",
       "      <td>1.000000</td>\n",
       "      <td>0.000000</td>\n",
       "      <td>1.000000</td>\n",
       "      <td>0.000000</td>\n",
       "      <td>1.000000</td>\n",
       "      <td>0.000000</td>\n",
       "      <td>0.000000</td>\n",
       "      <td>0.000000</td>\n",
       "      <td>0.000000</td>\n",
       "      <td>...</td>\n",
       "      <td>0.000000</td>\n",
       "      <td>1.000000</td>\n",
       "      <td>0.000000</td>\n",
       "      <td>1.000000</td>\n",
       "      <td>0.000000</td>\n",
       "      <td>1.000000</td>\n",
       "      <td>0.000000</td>\n",
       "      <td>1.000000</td>\n",
       "      <td>1.000000</td>\n",
       "      <td>1.000000</td>\n",
       "    </tr>\n",
       "    <tr>\n",
       "      <th>timestamp_first_active</th>\n",
       "      <td>1.0</td>\n",
       "      <td>1.000000</td>\n",
       "      <td>0.129401</td>\n",
       "      <td>-0.064439</td>\n",
       "      <td>0.096268</td>\n",
       "      <td>0.196704</td>\n",
       "      <td>0.036621</td>\n",
       "      <td>0.238206</td>\n",
       "      <td>0.253515</td>\n",
       "      <td>0.111474</td>\n",
       "      <td>...</td>\n",
       "      <td>0.095491</td>\n",
       "      <td>0.644774</td>\n",
       "      <td>0.229940</td>\n",
       "      <td>0.998825</td>\n",
       "      <td>0.475204</td>\n",
       "      <td>-0.045358</td>\n",
       "      <td>0.047440</td>\n",
       "      <td>-0.042765</td>\n",
       "      <td>0.196659</td>\n",
       "      <td>-0.037303</td>\n",
       "    </tr>\n",
       "    <tr>\n",
       "      <th>gender</th>\n",
       "      <td>0.0</td>\n",
       "      <td>0.129401</td>\n",
       "      <td>1.000000</td>\n",
       "      <td>0.097836</td>\n",
       "      <td>0.378078</td>\n",
       "      <td>0.109484</td>\n",
       "      <td>0.023407</td>\n",
       "      <td>0.064692</td>\n",
       "      <td>0.064095</td>\n",
       "      <td>0.036603</td>\n",
       "      <td>...</td>\n",
       "      <td>0.088954</td>\n",
       "      <td>0.006696</td>\n",
       "      <td>0.111151</td>\n",
       "      <td>0.128113</td>\n",
       "      <td>0.033792</td>\n",
       "      <td>0.068324</td>\n",
       "      <td>0.036556</td>\n",
       "      <td>0.058214</td>\n",
       "      <td>0.023814</td>\n",
       "      <td>0.425451</td>\n",
       "    </tr>\n",
       "    <tr>\n",
       "      <th>age</th>\n",
       "      <td>1.0</td>\n",
       "      <td>-0.064439</td>\n",
       "      <td>0.097836</td>\n",
       "      <td>1.000000</td>\n",
       "      <td>0.010821</td>\n",
       "      <td>-0.071347</td>\n",
       "      <td>0.044768</td>\n",
       "      <td>0.088342</td>\n",
       "      <td>0.083019</td>\n",
       "      <td>0.068903</td>\n",
       "      <td>...</td>\n",
       "      <td>0.119542</td>\n",
       "      <td>-0.029575</td>\n",
       "      <td>0.034044</td>\n",
       "      <td>-0.063624</td>\n",
       "      <td>0.029954</td>\n",
       "      <td>0.019698</td>\n",
       "      <td>0.017694</td>\n",
       "      <td>0.012516</td>\n",
       "      <td>0.005178</td>\n",
       "      <td>-0.055398</td>\n",
       "    </tr>\n",
       "    <tr>\n",
       "      <th>signup_method</th>\n",
       "      <td>0.0</td>\n",
       "      <td>0.096268</td>\n",
       "      <td>0.378078</td>\n",
       "      <td>0.010821</td>\n",
       "      <td>1.000000</td>\n",
       "      <td>0.080530</td>\n",
       "      <td>0.045049</td>\n",
       "      <td>0.139304</td>\n",
       "      <td>0.121336</td>\n",
       "      <td>0.039886</td>\n",
       "      <td>...</td>\n",
       "      <td>0.106900</td>\n",
       "      <td>0.023409</td>\n",
       "      <td>0.027313</td>\n",
       "      <td>0.095477</td>\n",
       "      <td>0.053342</td>\n",
       "      <td>0.017362</td>\n",
       "      <td>0.011840</td>\n",
       "      <td>0.014489</td>\n",
       "      <td>0.049893</td>\n",
       "      <td>0.138351</td>\n",
       "    </tr>\n",
       "    <tr>\n",
       "      <th>signup_flow</th>\n",
       "      <td>1.0</td>\n",
       "      <td>0.196704</td>\n",
       "      <td>0.109484</td>\n",
       "      <td>-0.071347</td>\n",
       "      <td>0.080530</td>\n",
       "      <td>1.000000</td>\n",
       "      <td>0.021363</td>\n",
       "      <td>0.320708</td>\n",
       "      <td>0.275708</td>\n",
       "      <td>0.262832</td>\n",
       "      <td>...</td>\n",
       "      <td>0.699610</td>\n",
       "      <td>0.063640</td>\n",
       "      <td>0.092237</td>\n",
       "      <td>0.195338</td>\n",
       "      <td>0.111190</td>\n",
       "      <td>-0.051076</td>\n",
       "      <td>0.046422</td>\n",
       "      <td>-0.046067</td>\n",
       "      <td>-0.011724</td>\n",
       "      <td>-0.045753</td>\n",
       "    </tr>\n",
       "    <tr>\n",
       "      <th>language</th>\n",
       "      <td>0.0</td>\n",
       "      <td>0.036621</td>\n",
       "      <td>0.023407</td>\n",
       "      <td>0.044768</td>\n",
       "      <td>0.045049</td>\n",
       "      <td>0.021363</td>\n",
       "      <td>1.000000</td>\n",
       "      <td>0.043426</td>\n",
       "      <td>0.076373</td>\n",
       "      <td>0.029342</td>\n",
       "      <td>...</td>\n",
       "      <td>0.041924</td>\n",
       "      <td>0.014537</td>\n",
       "      <td>0.010783</td>\n",
       "      <td>0.036009</td>\n",
       "      <td>0.008830</td>\n",
       "      <td>0.024525</td>\n",
       "      <td>0.014935</td>\n",
       "      <td>0.023245</td>\n",
       "      <td>0.016456</td>\n",
       "      <td>0.021352</td>\n",
       "    </tr>\n",
       "    <tr>\n",
       "      <th>affiliate_channel</th>\n",
       "      <td>0.0</td>\n",
       "      <td>0.238206</td>\n",
       "      <td>0.064692</td>\n",
       "      <td>0.088342</td>\n",
       "      <td>0.139304</td>\n",
       "      <td>0.320708</td>\n",
       "      <td>0.043426</td>\n",
       "      <td>1.000000</td>\n",
       "      <td>0.621278</td>\n",
       "      <td>0.358265</td>\n",
       "      <td>...</td>\n",
       "      <td>0.126174</td>\n",
       "      <td>0.154811</td>\n",
       "      <td>0.036044</td>\n",
       "      <td>0.235711</td>\n",
       "      <td>0.066073</td>\n",
       "      <td>0.044315</td>\n",
       "      <td>0.017279</td>\n",
       "      <td>0.040753</td>\n",
       "      <td>0.084262</td>\n",
       "      <td>0.061934</td>\n",
       "    </tr>\n",
       "    <tr>\n",
       "      <th>affiliate_provider</th>\n",
       "      <td>0.0</td>\n",
       "      <td>0.253515</td>\n",
       "      <td>0.064095</td>\n",
       "      <td>0.083019</td>\n",
       "      <td>0.121336</td>\n",
       "      <td>0.275708</td>\n",
       "      <td>0.076373</td>\n",
       "      <td>0.621278</td>\n",
       "      <td>1.000000</td>\n",
       "      <td>0.323842</td>\n",
       "      <td>...</td>\n",
       "      <td>0.079140</td>\n",
       "      <td>0.167716</td>\n",
       "      <td>0.021780</td>\n",
       "      <td>0.250534</td>\n",
       "      <td>0.056225</td>\n",
       "      <td>0.040839</td>\n",
       "      <td>0.014180</td>\n",
       "      <td>0.038072</td>\n",
       "      <td>0.070448</td>\n",
       "      <td>0.043928</td>\n",
       "    </tr>\n",
       "    <tr>\n",
       "      <th>first_affiliate_tracked</th>\n",
       "      <td>0.0</td>\n",
       "      <td>0.111474</td>\n",
       "      <td>0.036603</td>\n",
       "      <td>0.068903</td>\n",
       "      <td>0.039886</td>\n",
       "      <td>0.262832</td>\n",
       "      <td>0.029342</td>\n",
       "      <td>0.358265</td>\n",
       "      <td>0.323842</td>\n",
       "      <td>1.000000</td>\n",
       "      <td>...</td>\n",
       "      <td>0.150861</td>\n",
       "      <td>0.074516</td>\n",
       "      <td>0.030943</td>\n",
       "      <td>0.111283</td>\n",
       "      <td>0.039671</td>\n",
       "      <td>0.019440</td>\n",
       "      <td>0.008631</td>\n",
       "      <td>0.017589</td>\n",
       "      <td>0.042946</td>\n",
       "      <td>0.039634</td>\n",
       "    </tr>\n",
       "    <tr>\n",
       "      <th>signup_app</th>\n",
       "      <td>0.0</td>\n",
       "      <td>0.247947</td>\n",
       "      <td>0.053860</td>\n",
       "      <td>0.078442</td>\n",
       "      <td>0.221507</td>\n",
       "      <td>0.926528</td>\n",
       "      <td>0.019470</td>\n",
       "      <td>0.286208</td>\n",
       "      <td>0.230598</td>\n",
       "      <td>0.161509</td>\n",
       "      <td>...</td>\n",
       "      <td>0.456904</td>\n",
       "      <td>0.103354</td>\n",
       "      <td>0.059464</td>\n",
       "      <td>0.245923</td>\n",
       "      <td>0.075017</td>\n",
       "      <td>0.060267</td>\n",
       "      <td>0.031399</td>\n",
       "      <td>0.054735</td>\n",
       "      <td>0.030106</td>\n",
       "      <td>0.043931</td>\n",
       "    </tr>\n",
       "    <tr>\n",
       "      <th>first_device_type</th>\n",
       "      <td>0.0</td>\n",
       "      <td>0.200139</td>\n",
       "      <td>0.073918</td>\n",
       "      <td>0.081491</td>\n",
       "      <td>0.172614</td>\n",
       "      <td>0.722633</td>\n",
       "      <td>0.025124</td>\n",
       "      <td>0.129859</td>\n",
       "      <td>0.108056</td>\n",
       "      <td>0.137161</td>\n",
       "      <td>...</td>\n",
       "      <td>0.637727</td>\n",
       "      <td>0.117374</td>\n",
       "      <td>0.043406</td>\n",
       "      <td>0.197909</td>\n",
       "      <td>0.065040</td>\n",
       "      <td>0.063753</td>\n",
       "      <td>0.023103</td>\n",
       "      <td>0.056071</td>\n",
       "      <td>0.033237</td>\n",
       "      <td>0.094986</td>\n",
       "    </tr>\n",
       "    <tr>\n",
       "      <th>first_browser</th>\n",
       "      <td>0.0</td>\n",
       "      <td>0.095491</td>\n",
       "      <td>0.088954</td>\n",
       "      <td>0.119542</td>\n",
       "      <td>0.106900</td>\n",
       "      <td>0.699610</td>\n",
       "      <td>0.041924</td>\n",
       "      <td>0.126174</td>\n",
       "      <td>0.079140</td>\n",
       "      <td>0.150861</td>\n",
       "      <td>...</td>\n",
       "      <td>1.000000</td>\n",
       "      <td>0.064213</td>\n",
       "      <td>0.037118</td>\n",
       "      <td>0.094930</td>\n",
       "      <td>0.032837</td>\n",
       "      <td>0.056745</td>\n",
       "      <td>0.015359</td>\n",
       "      <td>0.049930</td>\n",
       "      <td>0.035182</td>\n",
       "      <td>0.099380</td>\n",
       "    </tr>\n",
       "    <tr>\n",
       "      <th>first_booking_year</th>\n",
       "      <td>1.0</td>\n",
       "      <td>0.644774</td>\n",
       "      <td>0.006696</td>\n",
       "      <td>-0.029575</td>\n",
       "      <td>0.023409</td>\n",
       "      <td>0.063640</td>\n",
       "      <td>0.014537</td>\n",
       "      <td>0.154811</td>\n",
       "      <td>0.167716</td>\n",
       "      <td>0.074516</td>\n",
       "      <td>...</td>\n",
       "      <td>0.064213</td>\n",
       "      <td>1.000000</td>\n",
       "      <td>0.368718</td>\n",
       "      <td>0.642589</td>\n",
       "      <td>0.248001</td>\n",
       "      <td>-0.018704</td>\n",
       "      <td>0.035384</td>\n",
       "      <td>-0.021257</td>\n",
       "      <td>0.177971</td>\n",
       "      <td>0.049330</td>\n",
       "    </tr>\n",
       "    <tr>\n",
       "      <th>first_booking_month</th>\n",
       "      <td>0.0</td>\n",
       "      <td>0.229940</td>\n",
       "      <td>0.111151</td>\n",
       "      <td>0.034044</td>\n",
       "      <td>0.027313</td>\n",
       "      <td>0.092237</td>\n",
       "      <td>0.010783</td>\n",
       "      <td>0.036044</td>\n",
       "      <td>0.021780</td>\n",
       "      <td>0.030943</td>\n",
       "      <td>...</td>\n",
       "      <td>0.037118</td>\n",
       "      <td>0.368718</td>\n",
       "      <td>1.000000</td>\n",
       "      <td>0.239614</td>\n",
       "      <td>0.394263</td>\n",
       "      <td>0.296047</td>\n",
       "      <td>0.108267</td>\n",
       "      <td>0.261974</td>\n",
       "      <td>0.120292</td>\n",
       "      <td>0.510033</td>\n",
       "    </tr>\n",
       "    <tr>\n",
       "      <th>account_created_year</th>\n",
       "      <td>1.0</td>\n",
       "      <td>0.998825</td>\n",
       "      <td>0.128113</td>\n",
       "      <td>-0.063624</td>\n",
       "      <td>0.095477</td>\n",
       "      <td>0.195338</td>\n",
       "      <td>0.036009</td>\n",
       "      <td>0.235711</td>\n",
       "      <td>0.250534</td>\n",
       "      <td>0.111283</td>\n",
       "      <td>...</td>\n",
       "      <td>0.094930</td>\n",
       "      <td>0.642589</td>\n",
       "      <td>0.239614</td>\n",
       "      <td>1.000000</td>\n",
       "      <td>0.498618</td>\n",
       "      <td>-0.044110</td>\n",
       "      <td>0.046142</td>\n",
       "      <td>-0.041396</td>\n",
       "      <td>0.197908</td>\n",
       "      <td>-0.036649</td>\n",
       "    </tr>\n",
       "    <tr>\n",
       "      <th>account_created_month</th>\n",
       "      <td>0.0</td>\n",
       "      <td>0.475204</td>\n",
       "      <td>0.033792</td>\n",
       "      <td>0.029954</td>\n",
       "      <td>0.053342</td>\n",
       "      <td>0.111190</td>\n",
       "      <td>0.008830</td>\n",
       "      <td>0.066073</td>\n",
       "      <td>0.056225</td>\n",
       "      <td>0.039671</td>\n",
       "      <td>...</td>\n",
       "      <td>0.032837</td>\n",
       "      <td>0.248001</td>\n",
       "      <td>0.394263</td>\n",
       "      <td>0.498618</td>\n",
       "      <td>1.000000</td>\n",
       "      <td>0.032842</td>\n",
       "      <td>0.015948</td>\n",
       "      <td>0.036771</td>\n",
       "      <td>0.156288</td>\n",
       "      <td>0.016818</td>\n",
       "    </tr>\n",
       "    <tr>\n",
       "      <th>distance_km</th>\n",
       "      <td>1.0</td>\n",
       "      <td>-0.045358</td>\n",
       "      <td>0.068324</td>\n",
       "      <td>0.019698</td>\n",
       "      <td>0.017362</td>\n",
       "      <td>-0.051076</td>\n",
       "      <td>0.024525</td>\n",
       "      <td>0.044315</td>\n",
       "      <td>0.040839</td>\n",
       "      <td>0.019440</td>\n",
       "      <td>...</td>\n",
       "      <td>0.056745</td>\n",
       "      <td>-0.018704</td>\n",
       "      <td>0.296047</td>\n",
       "      <td>-0.044110</td>\n",
       "      <td>0.032842</td>\n",
       "      <td>1.000000</td>\n",
       "      <td>0.860382</td>\n",
       "      <td>0.855377</td>\n",
       "      <td>0.028674</td>\n",
       "      <td>-0.130303</td>\n",
       "    </tr>\n",
       "    <tr>\n",
       "      <th>destination_language</th>\n",
       "      <td>0.0</td>\n",
       "      <td>0.047440</td>\n",
       "      <td>0.036556</td>\n",
       "      <td>0.017694</td>\n",
       "      <td>0.011840</td>\n",
       "      <td>0.046422</td>\n",
       "      <td>0.014935</td>\n",
       "      <td>0.017279</td>\n",
       "      <td>0.014180</td>\n",
       "      <td>0.008631</td>\n",
       "      <td>...</td>\n",
       "      <td>0.015359</td>\n",
       "      <td>0.035384</td>\n",
       "      <td>0.108267</td>\n",
       "      <td>0.046142</td>\n",
       "      <td>0.015948</td>\n",
       "      <td>0.860382</td>\n",
       "      <td>1.000000</td>\n",
       "      <td>1.000000</td>\n",
       "      <td>0.029296</td>\n",
       "      <td>0.114421</td>\n",
       "    </tr>\n",
       "    <tr>\n",
       "      <th>language_levenshtein_distance</th>\n",
       "      <td>1.0</td>\n",
       "      <td>-0.042765</td>\n",
       "      <td>0.058214</td>\n",
       "      <td>0.012516</td>\n",
       "      <td>0.014489</td>\n",
       "      <td>-0.046067</td>\n",
       "      <td>0.023245</td>\n",
       "      <td>0.040753</td>\n",
       "      <td>0.038072</td>\n",
       "      <td>0.017589</td>\n",
       "      <td>...</td>\n",
       "      <td>0.049930</td>\n",
       "      <td>-0.021257</td>\n",
       "      <td>0.261974</td>\n",
       "      <td>-0.041396</td>\n",
       "      <td>0.036771</td>\n",
       "      <td>0.855377</td>\n",
       "      <td>1.000000</td>\n",
       "      <td>1.000000</td>\n",
       "      <td>0.027046</td>\n",
       "      <td>-0.111509</td>\n",
       "    </tr>\n",
       "    <tr>\n",
       "      <th>secs_elapsed</th>\n",
       "      <td>1.0</td>\n",
       "      <td>0.196659</td>\n",
       "      <td>0.023814</td>\n",
       "      <td>0.005178</td>\n",
       "      <td>0.049893</td>\n",
       "      <td>-0.011724</td>\n",
       "      <td>0.016456</td>\n",
       "      <td>0.084262</td>\n",
       "      <td>0.070448</td>\n",
       "      <td>0.042946</td>\n",
       "      <td>...</td>\n",
       "      <td>0.035182</td>\n",
       "      <td>0.177971</td>\n",
       "      <td>0.120292</td>\n",
       "      <td>0.197908</td>\n",
       "      <td>0.156288</td>\n",
       "      <td>0.028674</td>\n",
       "      <td>0.029296</td>\n",
       "      <td>0.027046</td>\n",
       "      <td>1.000000</td>\n",
       "      <td>0.050245</td>\n",
       "    </tr>\n",
       "    <tr>\n",
       "      <th>population_in_thousands</th>\n",
       "      <td>1.0</td>\n",
       "      <td>-0.037303</td>\n",
       "      <td>0.425451</td>\n",
       "      <td>-0.055398</td>\n",
       "      <td>0.138351</td>\n",
       "      <td>-0.045753</td>\n",
       "      <td>0.021352</td>\n",
       "      <td>0.061934</td>\n",
       "      <td>0.043928</td>\n",
       "      <td>0.039634</td>\n",
       "      <td>...</td>\n",
       "      <td>0.099380</td>\n",
       "      <td>0.049330</td>\n",
       "      <td>0.510033</td>\n",
       "      <td>-0.036649</td>\n",
       "      <td>0.016818</td>\n",
       "      <td>-0.130303</td>\n",
       "      <td>0.114421</td>\n",
       "      <td>-0.111509</td>\n",
       "      <td>0.050245</td>\n",
       "      <td>1.000000</td>\n",
       "    </tr>\n",
       "  </tbody>\n",
       "</table>\n",
       "<p>22 rows × 22 columns</p>\n",
       "</div>"
      ],
      "text/plain": [
       "                                id  timestamp_first_active    gender  \\\n",
       "id                             1.0                1.000000  0.000000   \n",
       "timestamp_first_active         1.0                1.000000  0.129401   \n",
       "gender                         0.0                0.129401  1.000000   \n",
       "age                            1.0               -0.064439  0.097836   \n",
       "signup_method                  0.0                0.096268  0.378078   \n",
       "signup_flow                    1.0                0.196704  0.109484   \n",
       "language                       0.0                0.036621  0.023407   \n",
       "affiliate_channel              0.0                0.238206  0.064692   \n",
       "affiliate_provider             0.0                0.253515  0.064095   \n",
       "first_affiliate_tracked        0.0                0.111474  0.036603   \n",
       "signup_app                     0.0                0.247947  0.053860   \n",
       "first_device_type              0.0                0.200139  0.073918   \n",
       "first_browser                  0.0                0.095491  0.088954   \n",
       "first_booking_year             1.0                0.644774  0.006696   \n",
       "first_booking_month            0.0                0.229940  0.111151   \n",
       "account_created_year           1.0                0.998825  0.128113   \n",
       "account_created_month          0.0                0.475204  0.033792   \n",
       "distance_km                    1.0               -0.045358  0.068324   \n",
       "destination_language           0.0                0.047440  0.036556   \n",
       "language_levenshtein_distance  1.0               -0.042765  0.058214   \n",
       "secs_elapsed                   1.0                0.196659  0.023814   \n",
       "population_in_thousands        1.0               -0.037303  0.425451   \n",
       "\n",
       "                                    age  signup_method  signup_flow  language  \\\n",
       "id                             1.000000       0.000000     1.000000  0.000000   \n",
       "timestamp_first_active        -0.064439       0.096268     0.196704  0.036621   \n",
       "gender                         0.097836       0.378078     0.109484  0.023407   \n",
       "age                            1.000000       0.010821    -0.071347  0.044768   \n",
       "signup_method                  0.010821       1.000000     0.080530  0.045049   \n",
       "signup_flow                   -0.071347       0.080530     1.000000  0.021363   \n",
       "language                       0.044768       0.045049     0.021363  1.000000   \n",
       "affiliate_channel              0.088342       0.139304     0.320708  0.043426   \n",
       "affiliate_provider             0.083019       0.121336     0.275708  0.076373   \n",
       "first_affiliate_tracked        0.068903       0.039886     0.262832  0.029342   \n",
       "signup_app                     0.078442       0.221507     0.926528  0.019470   \n",
       "first_device_type              0.081491       0.172614     0.722633  0.025124   \n",
       "first_browser                  0.119542       0.106900     0.699610  0.041924   \n",
       "first_booking_year            -0.029575       0.023409     0.063640  0.014537   \n",
       "first_booking_month            0.034044       0.027313     0.092237  0.010783   \n",
       "account_created_year          -0.063624       0.095477     0.195338  0.036009   \n",
       "account_created_month          0.029954       0.053342     0.111190  0.008830   \n",
       "distance_km                    0.019698       0.017362    -0.051076  0.024525   \n",
       "destination_language           0.017694       0.011840     0.046422  0.014935   \n",
       "language_levenshtein_distance  0.012516       0.014489    -0.046067  0.023245   \n",
       "secs_elapsed                   0.005178       0.049893    -0.011724  0.016456   \n",
       "population_in_thousands       -0.055398       0.138351    -0.045753  0.021352   \n",
       "\n",
       "                               affiliate_channel  affiliate_provider  \\\n",
       "id                                      0.000000            0.000000   \n",
       "timestamp_first_active                  0.238206            0.253515   \n",
       "gender                                  0.064692            0.064095   \n",
       "age                                     0.088342            0.083019   \n",
       "signup_method                           0.139304            0.121336   \n",
       "signup_flow                             0.320708            0.275708   \n",
       "language                                0.043426            0.076373   \n",
       "affiliate_channel                       1.000000            0.621278   \n",
       "affiliate_provider                      0.621278            1.000000   \n",
       "first_affiliate_tracked                 0.358265            0.323842   \n",
       "signup_app                              0.286208            0.230598   \n",
       "first_device_type                       0.129859            0.108056   \n",
       "first_browser                           0.126174            0.079140   \n",
       "first_booking_year                      0.154811            0.167716   \n",
       "first_booking_month                     0.036044            0.021780   \n",
       "account_created_year                    0.235711            0.250534   \n",
       "account_created_month                   0.066073            0.056225   \n",
       "distance_km                             0.044315            0.040839   \n",
       "destination_language                    0.017279            0.014180   \n",
       "language_levenshtein_distance           0.040753            0.038072   \n",
       "secs_elapsed                            0.084262            0.070448   \n",
       "population_in_thousands                 0.061934            0.043928   \n",
       "\n",
       "                               first_affiliate_tracked  ...  first_browser  \\\n",
       "id                                            0.000000  ...       0.000000   \n",
       "timestamp_first_active                        0.111474  ...       0.095491   \n",
       "gender                                        0.036603  ...       0.088954   \n",
       "age                                           0.068903  ...       0.119542   \n",
       "signup_method                                 0.039886  ...       0.106900   \n",
       "signup_flow                                   0.262832  ...       0.699610   \n",
       "language                                      0.029342  ...       0.041924   \n",
       "affiliate_channel                             0.358265  ...       0.126174   \n",
       "affiliate_provider                            0.323842  ...       0.079140   \n",
       "first_affiliate_tracked                       1.000000  ...       0.150861   \n",
       "signup_app                                    0.161509  ...       0.456904   \n",
       "first_device_type                             0.137161  ...       0.637727   \n",
       "first_browser                                 0.150861  ...       1.000000   \n",
       "first_booking_year                            0.074516  ...       0.064213   \n",
       "first_booking_month                           0.030943  ...       0.037118   \n",
       "account_created_year                          0.111283  ...       0.094930   \n",
       "account_created_month                         0.039671  ...       0.032837   \n",
       "distance_km                                   0.019440  ...       0.056745   \n",
       "destination_language                          0.008631  ...       0.015359   \n",
       "language_levenshtein_distance                 0.017589  ...       0.049930   \n",
       "secs_elapsed                                  0.042946  ...       0.035182   \n",
       "population_in_thousands                       0.039634  ...       0.099380   \n",
       "\n",
       "                               first_booking_year  first_booking_month  \\\n",
       "id                                       1.000000             0.000000   \n",
       "timestamp_first_active                   0.644774             0.229940   \n",
       "gender                                   0.006696             0.111151   \n",
       "age                                     -0.029575             0.034044   \n",
       "signup_method                            0.023409             0.027313   \n",
       "signup_flow                              0.063640             0.092237   \n",
       "language                                 0.014537             0.010783   \n",
       "affiliate_channel                        0.154811             0.036044   \n",
       "affiliate_provider                       0.167716             0.021780   \n",
       "first_affiliate_tracked                  0.074516             0.030943   \n",
       "signup_app                               0.103354             0.059464   \n",
       "first_device_type                        0.117374             0.043406   \n",
       "first_browser                            0.064213             0.037118   \n",
       "first_booking_year                       1.000000             0.368718   \n",
       "first_booking_month                      0.368718             1.000000   \n",
       "account_created_year                     0.642589             0.239614   \n",
       "account_created_month                    0.248001             0.394263   \n",
       "distance_km                             -0.018704             0.296047   \n",
       "destination_language                     0.035384             0.108267   \n",
       "language_levenshtein_distance           -0.021257             0.261974   \n",
       "secs_elapsed                             0.177971             0.120292   \n",
       "population_in_thousands                  0.049330             0.510033   \n",
       "\n",
       "                               account_created_year  account_created_month  \\\n",
       "id                                         1.000000               0.000000   \n",
       "timestamp_first_active                     0.998825               0.475204   \n",
       "gender                                     0.128113               0.033792   \n",
       "age                                       -0.063624               0.029954   \n",
       "signup_method                              0.095477               0.053342   \n",
       "signup_flow                                0.195338               0.111190   \n",
       "language                                   0.036009               0.008830   \n",
       "affiliate_channel                          0.235711               0.066073   \n",
       "affiliate_provider                         0.250534               0.056225   \n",
       "first_affiliate_tracked                    0.111283               0.039671   \n",
       "signup_app                                 0.245923               0.075017   \n",
       "first_device_type                          0.197909               0.065040   \n",
       "first_browser                              0.094930               0.032837   \n",
       "first_booking_year                         0.642589               0.248001   \n",
       "first_booking_month                        0.239614               0.394263   \n",
       "account_created_year                       1.000000               0.498618   \n",
       "account_created_month                      0.498618               1.000000   \n",
       "distance_km                               -0.044110               0.032842   \n",
       "destination_language                       0.046142               0.015948   \n",
       "language_levenshtein_distance             -0.041396               0.036771   \n",
       "secs_elapsed                               0.197908               0.156288   \n",
       "population_in_thousands                   -0.036649               0.016818   \n",
       "\n",
       "                               distance_km  destination_language   \\\n",
       "id                                1.000000               0.000000   \n",
       "timestamp_first_active           -0.045358               0.047440   \n",
       "gender                            0.068324               0.036556   \n",
       "age                               0.019698               0.017694   \n",
       "signup_method                     0.017362               0.011840   \n",
       "signup_flow                      -0.051076               0.046422   \n",
       "language                          0.024525               0.014935   \n",
       "affiliate_channel                 0.044315               0.017279   \n",
       "affiliate_provider                0.040839               0.014180   \n",
       "first_affiliate_tracked           0.019440               0.008631   \n",
       "signup_app                        0.060267               0.031399   \n",
       "first_device_type                 0.063753               0.023103   \n",
       "first_browser                     0.056745               0.015359   \n",
       "first_booking_year               -0.018704               0.035384   \n",
       "first_booking_month               0.296047               0.108267   \n",
       "account_created_year             -0.044110               0.046142   \n",
       "account_created_month             0.032842               0.015948   \n",
       "distance_km                       1.000000               0.860382   \n",
       "destination_language              0.860382               1.000000   \n",
       "language_levenshtein_distance     0.855377               1.000000   \n",
       "secs_elapsed                      0.028674               0.029296   \n",
       "population_in_thousands          -0.130303               0.114421   \n",
       "\n",
       "                               language_levenshtein_distance  secs_elapsed  \\\n",
       "id                                                  1.000000      1.000000   \n",
       "timestamp_first_active                             -0.042765      0.196659   \n",
       "gender                                              0.058214      0.023814   \n",
       "age                                                 0.012516      0.005178   \n",
       "signup_method                                       0.014489      0.049893   \n",
       "signup_flow                                        -0.046067     -0.011724   \n",
       "language                                            0.023245      0.016456   \n",
       "affiliate_channel                                   0.040753      0.084262   \n",
       "affiliate_provider                                  0.038072      0.070448   \n",
       "first_affiliate_tracked                             0.017589      0.042946   \n",
       "signup_app                                          0.054735      0.030106   \n",
       "first_device_type                                   0.056071      0.033237   \n",
       "first_browser                                       0.049930      0.035182   \n",
       "first_booking_year                                 -0.021257      0.177971   \n",
       "first_booking_month                                 0.261974      0.120292   \n",
       "account_created_year                               -0.041396      0.197908   \n",
       "account_created_month                               0.036771      0.156288   \n",
       "distance_km                                         0.855377      0.028674   \n",
       "destination_language                                1.000000      0.029296   \n",
       "language_levenshtein_distance                       1.000000      0.027046   \n",
       "secs_elapsed                                        0.027046      1.000000   \n",
       "population_in_thousands                            -0.111509      0.050245   \n",
       "\n",
       "                               population_in_thousands  \n",
       "id                                            1.000000  \n",
       "timestamp_first_active                       -0.037303  \n",
       "gender                                        0.425451  \n",
       "age                                          -0.055398  \n",
       "signup_method                                 0.138351  \n",
       "signup_flow                                  -0.045753  \n",
       "language                                      0.021352  \n",
       "affiliate_channel                             0.061934  \n",
       "affiliate_provider                            0.043928  \n",
       "first_affiliate_tracked                       0.039634  \n",
       "signup_app                                    0.043931  \n",
       "first_device_type                             0.094986  \n",
       "first_browser                                 0.099380  \n",
       "first_booking_year                            0.049330  \n",
       "first_booking_month                           0.510033  \n",
       "account_created_year                         -0.036649  \n",
       "account_created_month                         0.016818  \n",
       "distance_km                                  -0.130303  \n",
       "destination_language                          0.114421  \n",
       "language_levenshtein_distance                -0.111509  \n",
       "secs_elapsed                                  0.050245  \n",
       "population_in_thousands                       1.000000  \n",
       "\n",
       "[22 rows x 22 columns]"
      ]
     },
     "execution_count": 98,
     "metadata": {},
     "output_type": "execute_result"
    }
   ],
   "source": [
    "complete_correlation['corr']"
   ]
  },
  {
   "cell_type": "code",
   "execution_count": 106,
   "id": "580cd889",
   "metadata": {},
   "outputs": [],
   "source": [
    "columns = X.columns.to_list()"
   ]
  },
  {
   "cell_type": "code",
   "execution_count": 107,
   "id": "1afb0834",
   "metadata": {},
   "outputs": [],
   "source": [
    "exluded_columns = ['id', 'signup_app', 'destination_language', 'language_levenshtein_distance']"
   ]
  },
  {
   "cell_type": "code",
   "execution_count": 108,
   "id": "b3c6ff1b",
   "metadata": {},
   "outputs": [],
   "source": [
    "final_columns = set(columns) - set(exluded_columns)"
   ]
  },
  {
   "cell_type": "code",
   "execution_count": 110,
   "id": "87bc187a",
   "metadata": {},
   "outputs": [],
   "source": [
    "final_columns = list(final_columns)"
   ]
  },
  {
   "cell_type": "code",
   "execution_count": 111,
   "id": "c47824f5",
   "metadata": {},
   "outputs": [
    {
     "data": {
      "text/plain": [
       "['distance_km',\n",
       " 'gender',\n",
       " 'signup_flow',\n",
       " 'account_created_year',\n",
       " 'destination_language ',\n",
       " 'affiliate_provider',\n",
       " 'first_device_type',\n",
       " 'timestamp_first_active',\n",
       " 'language',\n",
       " 'signup_method',\n",
       " 'first_affiliate_tracked',\n",
       " 'account_created_month',\n",
       " 'population_in_thousands',\n",
       " 'first_browser',\n",
       " 'secs_elapsed',\n",
       " 'first_booking_month',\n",
       " 'affiliate_channel',\n",
       " 'age',\n",
       " 'first_booking_year']"
      ]
     },
     "execution_count": 111,
     "metadata": {},
     "output_type": "execute_result"
    }
   ],
   "source": [
    "final_columns"
   ]
  },
  {
   "cell_type": "code",
   "execution_count": 112,
   "id": "da2c3ccd",
   "metadata": {},
   "outputs": [],
   "source": [
    "X = X[final_columns]"
   ]
  },
  {
   "cell_type": "code",
   "execution_count": 113,
   "id": "5b977a14",
   "metadata": {},
   "outputs": [
    {
     "data": {
      "text/html": [
       "<div>\n",
       "<style scoped>\n",
       "    .dataframe tbody tr th:only-of-type {\n",
       "        vertical-align: middle;\n",
       "    }\n",
       "\n",
       "    .dataframe tbody tr th {\n",
       "        vertical-align: top;\n",
       "    }\n",
       "\n",
       "    .dataframe thead th {\n",
       "        text-align: right;\n",
       "    }\n",
       "</style>\n",
       "<table border=\"1\" class=\"dataframe\">\n",
       "  <thead>\n",
       "    <tr style=\"text-align: right;\">\n",
       "      <th></th>\n",
       "      <th>distance_km</th>\n",
       "      <th>gender</th>\n",
       "      <th>signup_flow</th>\n",
       "      <th>account_created_year</th>\n",
       "      <th>destination_language</th>\n",
       "      <th>affiliate_provider</th>\n",
       "      <th>first_device_type</th>\n",
       "      <th>timestamp_first_active</th>\n",
       "      <th>language</th>\n",
       "      <th>signup_method</th>\n",
       "      <th>first_affiliate_tracked</th>\n",
       "      <th>account_created_month</th>\n",
       "      <th>population_in_thousands</th>\n",
       "      <th>first_browser</th>\n",
       "      <th>secs_elapsed</th>\n",
       "      <th>first_booking_month</th>\n",
       "      <th>affiliate_channel</th>\n",
       "      <th>age</th>\n",
       "      <th>first_booking_year</th>\n",
       "    </tr>\n",
       "  </thead>\n",
       "  <tbody>\n",
       "    <tr>\n",
       "      <th>0</th>\n",
       "      <td>0.0</td>\n",
       "      <td>-unknown-</td>\n",
       "      <td>0.0</td>\n",
       "      <td>2010.0</td>\n",
       "      <td>eng</td>\n",
       "      <td>direct</td>\n",
       "      <td>Mac Desktop</td>\n",
       "      <td>2.009260e+13</td>\n",
       "      <td>en</td>\n",
       "      <td>facebook</td>\n",
       "      <td>untracked</td>\n",
       "      <td>June</td>\n",
       "      <td>1743.133333</td>\n",
       "      <td>Chrome</td>\n",
       "      <td>872862.0</td>\n",
       "      <td>June</td>\n",
       "      <td>direct</td>\n",
       "      <td>34.0</td>\n",
       "      <td>2013.0</td>\n",
       "    </tr>\n",
       "    <tr>\n",
       "      <th>1</th>\n",
       "      <td>0.0</td>\n",
       "      <td>MALE</td>\n",
       "      <td>0.0</td>\n",
       "      <td>2011.0</td>\n",
       "      <td>eng</td>\n",
       "      <td>google</td>\n",
       "      <td>Mac Desktop</td>\n",
       "      <td>2.009260e+13</td>\n",
       "      <td>en</td>\n",
       "      <td>facebook</td>\n",
       "      <td>untracked</td>\n",
       "      <td>May</td>\n",
       "      <td>1743.133333</td>\n",
       "      <td>Chrome</td>\n",
       "      <td>872862.0</td>\n",
       "      <td>June</td>\n",
       "      <td>seo</td>\n",
       "      <td>38.0</td>\n",
       "      <td>2013.0</td>\n",
       "    </tr>\n",
       "    <tr>\n",
       "      <th>2</th>\n",
       "      <td>0.0</td>\n",
       "      <td>FEMALE</td>\n",
       "      <td>3.0</td>\n",
       "      <td>2010.0</td>\n",
       "      <td>eng</td>\n",
       "      <td>direct</td>\n",
       "      <td>Windows Desktop</td>\n",
       "      <td>2.009260e+13</td>\n",
       "      <td>en</td>\n",
       "      <td>basic</td>\n",
       "      <td>untracked</td>\n",
       "      <td>September</td>\n",
       "      <td>11264.000000</td>\n",
       "      <td>IE</td>\n",
       "      <td>872862.0</td>\n",
       "      <td>August</td>\n",
       "      <td>direct</td>\n",
       "      <td>56.0</td>\n",
       "      <td>2010.0</td>\n",
       "    </tr>\n",
       "    <tr>\n",
       "      <th>3</th>\n",
       "      <td>0.0</td>\n",
       "      <td>FEMALE</td>\n",
       "      <td>0.0</td>\n",
       "      <td>2011.0</td>\n",
       "      <td>eng</td>\n",
       "      <td>direct</td>\n",
       "      <td>Mac Desktop</td>\n",
       "      <td>2.009260e+13</td>\n",
       "      <td>en</td>\n",
       "      <td>facebook</td>\n",
       "      <td>untracked</td>\n",
       "      <td>December</td>\n",
       "      <td>1743.133333</td>\n",
       "      <td>Firefox</td>\n",
       "      <td>872862.0</td>\n",
       "      <td>September</td>\n",
       "      <td>direct</td>\n",
       "      <td>42.0</td>\n",
       "      <td>2012.0</td>\n",
       "    </tr>\n",
       "    <tr>\n",
       "      <th>4</th>\n",
       "      <td>0.0</td>\n",
       "      <td>-unknown-</td>\n",
       "      <td>0.0</td>\n",
       "      <td>2010.0</td>\n",
       "      <td>eng</td>\n",
       "      <td>direct</td>\n",
       "      <td>Mac Desktop</td>\n",
       "      <td>2.009260e+13</td>\n",
       "      <td>en</td>\n",
       "      <td>basic</td>\n",
       "      <td>untracked</td>\n",
       "      <td>September</td>\n",
       "      <td>1743.133333</td>\n",
       "      <td>Chrome</td>\n",
       "      <td>872862.0</td>\n",
       "      <td>February</td>\n",
       "      <td>direct</td>\n",
       "      <td>41.0</td>\n",
       "      <td>2010.0</td>\n",
       "    </tr>\n",
       "  </tbody>\n",
       "</table>\n",
       "</div>"
      ],
      "text/plain": [
       "   distance_km     gender  signup_flow  account_created_year  \\\n",
       "0          0.0  -unknown-          0.0                2010.0   \n",
       "1          0.0       MALE          0.0                2011.0   \n",
       "2          0.0     FEMALE          3.0                2010.0   \n",
       "3          0.0     FEMALE          0.0                2011.0   \n",
       "4          0.0  -unknown-          0.0                2010.0   \n",
       "\n",
       "  destination_language  affiliate_provider first_device_type  \\\n",
       "0                   eng             direct       Mac Desktop   \n",
       "1                   eng             google       Mac Desktop   \n",
       "2                   eng             direct   Windows Desktop   \n",
       "3                   eng             direct       Mac Desktop   \n",
       "4                   eng             direct       Mac Desktop   \n",
       "\n",
       "   timestamp_first_active language signup_method first_affiliate_tracked  \\\n",
       "0            2.009260e+13       en      facebook               untracked   \n",
       "1            2.009260e+13       en      facebook               untracked   \n",
       "2            2.009260e+13       en         basic               untracked   \n",
       "3            2.009260e+13       en      facebook               untracked   \n",
       "4            2.009260e+13       en         basic               untracked   \n",
       "\n",
       "  account_created_month  population_in_thousands first_browser  secs_elapsed  \\\n",
       "0                  June              1743.133333        Chrome      872862.0   \n",
       "1                   May              1743.133333        Chrome      872862.0   \n",
       "2             September             11264.000000            IE      872862.0   \n",
       "3              December              1743.133333       Firefox      872862.0   \n",
       "4             September              1743.133333        Chrome      872862.0   \n",
       "\n",
       "  first_booking_month affiliate_channel   age  first_booking_year  \n",
       "0                June            direct  34.0              2013.0  \n",
       "1                June               seo  38.0              2013.0  \n",
       "2              August            direct  56.0              2010.0  \n",
       "3           September            direct  42.0              2012.0  \n",
       "4            February            direct  41.0              2010.0  "
      ]
     },
     "execution_count": 113,
     "metadata": {},
     "output_type": "execute_result"
    }
   ],
   "source": [
    "X.head()"
   ]
  },
  {
   "cell_type": "markdown",
   "id": "8d388231",
   "metadata": {},
   "source": [
    "## Scaling and encoding"
   ]
  },
  {
   "cell_type": "code",
   "execution_count": 116,
   "id": "dfafcd8b",
   "metadata": {},
   "outputs": [],
   "source": [
    "numerical_cols = list(X.select_dtypes(include=['number']))\n",
    "categorical_cols = list(X.select_dtypes(include=['object', 'category']))"
   ]
  },
  {
   "cell_type": "code",
   "execution_count": 117,
   "id": "566ab695",
   "metadata": {},
   "outputs": [],
   "source": [
    "encoder = OneHotEncoder()\n",
    "scaler = StandardScaler()\n",
    "\n",
    "transformer = ColumnTransformer([('cat_cols', encoder, categorical_cols),\n",
    "                                 ('num_cols', scaler, numerical_cols)])"
   ]
  },
  {
   "cell_type": "code",
   "execution_count": 118,
   "id": "3314c2cd",
   "metadata": {},
   "outputs": [
    {
     "data": {
      "text/html": [
       "<style>#sk-container-id-1 {color: black;}#sk-container-id-1 pre{padding: 0;}#sk-container-id-1 div.sk-toggleable {background-color: white;}#sk-container-id-1 label.sk-toggleable__label {cursor: pointer;display: block;width: 100%;margin-bottom: 0;padding: 0.3em;box-sizing: border-box;text-align: center;}#sk-container-id-1 label.sk-toggleable__label-arrow:before {content: \"▸\";float: left;margin-right: 0.25em;color: #696969;}#sk-container-id-1 label.sk-toggleable__label-arrow:hover:before {color: black;}#sk-container-id-1 div.sk-estimator:hover label.sk-toggleable__label-arrow:before {color: black;}#sk-container-id-1 div.sk-toggleable__content {max-height: 0;max-width: 0;overflow: hidden;text-align: left;background-color: #f0f8ff;}#sk-container-id-1 div.sk-toggleable__content pre {margin: 0.2em;color: black;border-radius: 0.25em;background-color: #f0f8ff;}#sk-container-id-1 input.sk-toggleable__control:checked~div.sk-toggleable__content {max-height: 200px;max-width: 100%;overflow: auto;}#sk-container-id-1 input.sk-toggleable__control:checked~label.sk-toggleable__label-arrow:before {content: \"▾\";}#sk-container-id-1 div.sk-estimator input.sk-toggleable__control:checked~label.sk-toggleable__label {background-color: #d4ebff;}#sk-container-id-1 div.sk-label input.sk-toggleable__control:checked~label.sk-toggleable__label {background-color: #d4ebff;}#sk-container-id-1 input.sk-hidden--visually {border: 0;clip: rect(1px 1px 1px 1px);clip: rect(1px, 1px, 1px, 1px);height: 1px;margin: -1px;overflow: hidden;padding: 0;position: absolute;width: 1px;}#sk-container-id-1 div.sk-estimator {font-family: monospace;background-color: #f0f8ff;border: 1px dotted black;border-radius: 0.25em;box-sizing: border-box;margin-bottom: 0.5em;}#sk-container-id-1 div.sk-estimator:hover {background-color: #d4ebff;}#sk-container-id-1 div.sk-parallel-item::after {content: \"\";width: 100%;border-bottom: 1px solid gray;flex-grow: 1;}#sk-container-id-1 div.sk-label:hover label.sk-toggleable__label {background-color: #d4ebff;}#sk-container-id-1 div.sk-serial::before {content: \"\";position: absolute;border-left: 1px solid gray;box-sizing: border-box;top: 0;bottom: 0;left: 50%;z-index: 0;}#sk-container-id-1 div.sk-serial {display: flex;flex-direction: column;align-items: center;background-color: white;padding-right: 0.2em;padding-left: 0.2em;position: relative;}#sk-container-id-1 div.sk-item {position: relative;z-index: 1;}#sk-container-id-1 div.sk-parallel {display: flex;align-items: stretch;justify-content: center;background-color: white;position: relative;}#sk-container-id-1 div.sk-item::before, #sk-container-id-1 div.sk-parallel-item::before {content: \"\";position: absolute;border-left: 1px solid gray;box-sizing: border-box;top: 0;bottom: 0;left: 50%;z-index: -1;}#sk-container-id-1 div.sk-parallel-item {display: flex;flex-direction: column;z-index: 1;position: relative;background-color: white;}#sk-container-id-1 div.sk-parallel-item:first-child::after {align-self: flex-end;width: 50%;}#sk-container-id-1 div.sk-parallel-item:last-child::after {align-self: flex-start;width: 50%;}#sk-container-id-1 div.sk-parallel-item:only-child::after {width: 0;}#sk-container-id-1 div.sk-dashed-wrapped {border: 1px dashed gray;margin: 0 0.4em 0.5em 0.4em;box-sizing: border-box;padding-bottom: 0.4em;background-color: white;}#sk-container-id-1 div.sk-label label {font-family: monospace;font-weight: bold;display: inline-block;line-height: 1.2em;}#sk-container-id-1 div.sk-label-container {text-align: center;}#sk-container-id-1 div.sk-container {/* jupyter's `normalize.less` sets `[hidden] { display: none; }` but bootstrap.min.css set `[hidden] { display: none !important; }` so we also need the `!important` here to be able to override the default hidden behavior on the sphinx rendered scikit-learn.org. See: https://github.com/scikit-learn/scikit-learn/issues/21755 */display: inline-block !important;position: relative;}#sk-container-id-1 div.sk-text-repr-fallback {display: none;}</style><div id=\"sk-container-id-1\" class=\"sk-top-container\"><div class=\"sk-text-repr-fallback\"><pre>ColumnTransformer(transformers=[(&#x27;cat_cols&#x27;, OneHotEncoder(),\n",
       "                                 [&#x27;gender&#x27;, &#x27;destination_language &#x27;,\n",
       "                                  &#x27;affiliate_provider&#x27;, &#x27;first_device_type&#x27;,\n",
       "                                  &#x27;language&#x27;, &#x27;signup_method&#x27;,\n",
       "                                  &#x27;first_affiliate_tracked&#x27;,\n",
       "                                  &#x27;account_created_month&#x27;, &#x27;first_browser&#x27;,\n",
       "                                  &#x27;first_booking_month&#x27;, &#x27;affiliate_channel&#x27;]),\n",
       "                                (&#x27;num_cols&#x27;, StandardScaler(),\n",
       "                                 [&#x27;distance_km&#x27;, &#x27;signup_flow&#x27;,\n",
       "                                  &#x27;account_created_year&#x27;,\n",
       "                                  &#x27;timestamp_first_active&#x27;,\n",
       "                                  &#x27;population_in_thousands&#x27;, &#x27;secs_elapsed&#x27;,\n",
       "                                  &#x27;age&#x27;, &#x27;first_booking_year&#x27;])])</pre><b>In a Jupyter environment, please rerun this cell to show the HTML representation or trust the notebook. <br />On GitHub, the HTML representation is unable to render, please try loading this page with nbviewer.org.</b></div><div class=\"sk-container\" hidden><div class=\"sk-item sk-dashed-wrapped\"><div class=\"sk-label-container\"><div class=\"sk-label sk-toggleable\"><input class=\"sk-toggleable__control sk-hidden--visually\" id=\"sk-estimator-id-1\" type=\"checkbox\" ><label for=\"sk-estimator-id-1\" class=\"sk-toggleable__label sk-toggleable__label-arrow\">ColumnTransformer</label><div class=\"sk-toggleable__content\"><pre>ColumnTransformer(transformers=[(&#x27;cat_cols&#x27;, OneHotEncoder(),\n",
       "                                 [&#x27;gender&#x27;, &#x27;destination_language &#x27;,\n",
       "                                  &#x27;affiliate_provider&#x27;, &#x27;first_device_type&#x27;,\n",
       "                                  &#x27;language&#x27;, &#x27;signup_method&#x27;,\n",
       "                                  &#x27;first_affiliate_tracked&#x27;,\n",
       "                                  &#x27;account_created_month&#x27;, &#x27;first_browser&#x27;,\n",
       "                                  &#x27;first_booking_month&#x27;, &#x27;affiliate_channel&#x27;]),\n",
       "                                (&#x27;num_cols&#x27;, StandardScaler(),\n",
       "                                 [&#x27;distance_km&#x27;, &#x27;signup_flow&#x27;,\n",
       "                                  &#x27;account_created_year&#x27;,\n",
       "                                  &#x27;timestamp_first_active&#x27;,\n",
       "                                  &#x27;population_in_thousands&#x27;, &#x27;secs_elapsed&#x27;,\n",
       "                                  &#x27;age&#x27;, &#x27;first_booking_year&#x27;])])</pre></div></div></div><div class=\"sk-parallel\"><div class=\"sk-parallel-item\"><div class=\"sk-item\"><div class=\"sk-label-container\"><div class=\"sk-label sk-toggleable\"><input class=\"sk-toggleable__control sk-hidden--visually\" id=\"sk-estimator-id-2\" type=\"checkbox\" ><label for=\"sk-estimator-id-2\" class=\"sk-toggleable__label sk-toggleable__label-arrow\">cat_cols</label><div class=\"sk-toggleable__content\"><pre>[&#x27;gender&#x27;, &#x27;destination_language &#x27;, &#x27;affiliate_provider&#x27;, &#x27;first_device_type&#x27;, &#x27;language&#x27;, &#x27;signup_method&#x27;, &#x27;first_affiliate_tracked&#x27;, &#x27;account_created_month&#x27;, &#x27;first_browser&#x27;, &#x27;first_booking_month&#x27;, &#x27;affiliate_channel&#x27;]</pre></div></div></div><div class=\"sk-serial\"><div class=\"sk-item\"><div class=\"sk-estimator sk-toggleable\"><input class=\"sk-toggleable__control sk-hidden--visually\" id=\"sk-estimator-id-3\" type=\"checkbox\" ><label for=\"sk-estimator-id-3\" class=\"sk-toggleable__label sk-toggleable__label-arrow\">OneHotEncoder</label><div class=\"sk-toggleable__content\"><pre>OneHotEncoder()</pre></div></div></div></div></div></div><div class=\"sk-parallel-item\"><div class=\"sk-item\"><div class=\"sk-label-container\"><div class=\"sk-label sk-toggleable\"><input class=\"sk-toggleable__control sk-hidden--visually\" id=\"sk-estimator-id-4\" type=\"checkbox\" ><label for=\"sk-estimator-id-4\" class=\"sk-toggleable__label sk-toggleable__label-arrow\">num_cols</label><div class=\"sk-toggleable__content\"><pre>[&#x27;distance_km&#x27;, &#x27;signup_flow&#x27;, &#x27;account_created_year&#x27;, &#x27;timestamp_first_active&#x27;, &#x27;population_in_thousands&#x27;, &#x27;secs_elapsed&#x27;, &#x27;age&#x27;, &#x27;first_booking_year&#x27;]</pre></div></div></div><div class=\"sk-serial\"><div class=\"sk-item\"><div class=\"sk-estimator sk-toggleable\"><input class=\"sk-toggleable__control sk-hidden--visually\" id=\"sk-estimator-id-5\" type=\"checkbox\" ><label for=\"sk-estimator-id-5\" class=\"sk-toggleable__label sk-toggleable__label-arrow\">StandardScaler</label><div class=\"sk-toggleable__content\"><pre>StandardScaler()</pre></div></div></div></div></div></div></div></div></div></div>"
      ],
      "text/plain": [
       "ColumnTransformer(transformers=[('cat_cols', OneHotEncoder(),\n",
       "                                 ['gender', 'destination_language ',\n",
       "                                  'affiliate_provider', 'first_device_type',\n",
       "                                  'language', 'signup_method',\n",
       "                                  'first_affiliate_tracked',\n",
       "                                  'account_created_month', 'first_browser',\n",
       "                                  'first_booking_month', 'affiliate_channel']),\n",
       "                                ('num_cols', StandardScaler(),\n",
       "                                 ['distance_km', 'signup_flow',\n",
       "                                  'account_created_year',\n",
       "                                  'timestamp_first_active',\n",
       "                                  'population_in_thousands', 'secs_elapsed',\n",
       "                                  'age', 'first_booking_year'])])"
      ]
     },
     "execution_count": 118,
     "metadata": {},
     "output_type": "execute_result"
    }
   ],
   "source": [
    "transformer.fit(X)"
   ]
  },
  {
   "cell_type": "code",
   "execution_count": 120,
   "id": "9489c96f",
   "metadata": {},
   "outputs": [
    {
     "data": {
      "text/plain": [
       "['./transformer.joblib']"
      ]
     },
     "execution_count": 120,
     "metadata": {},
     "output_type": "execute_result"
    }
   ],
   "source": [
    "joblib.dump(transformer, os.path.join(data_dir, \"transformer.joblib\"))\n"
   ]
  },
  {
   "cell_type": "code",
   "execution_count": 121,
   "id": "dfee6668",
   "metadata": {},
   "outputs": [],
   "source": [
    "X = transformer.transform(X)"
   ]
  },
  {
   "cell_type": "code",
   "execution_count": 125,
   "id": "927a2409",
   "metadata": {},
   "outputs": [],
   "source": [
    "y = y.replace(class2id)"
   ]
  },
  {
   "cell_type": "markdown",
   "id": "a9644bdf",
   "metadata": {},
   "source": [
    "## Training"
   ]
  },
  {
   "cell_type": "code",
   "execution_count": 126,
   "id": "e993357b",
   "metadata": {},
   "outputs": [],
   "source": [
    "X_train, X_test, y_train, y_test = train_test_split(X, y, test_size=0.2, stratify=y)"
   ]
  },
  {
   "cell_type": "code",
   "execution_count": 127,
   "id": "21a6c054",
   "metadata": {},
   "outputs": [
    {
     "data": {
      "text/plain": [
       "(213451, 165)"
      ]
     },
     "execution_count": 127,
     "metadata": {},
     "output_type": "execute_result"
    }
   ],
   "source": [
    "X.shape"
   ]
  },
  {
   "cell_type": "code",
   "execution_count": 130,
   "id": "845f4cd6",
   "metadata": {},
   "outputs": [],
   "source": [
    "svc_classifier = SVC(gamma='auto', class_weight=class_weights_dict)"
   ]
  },
  {
   "cell_type": "code",
   "execution_count": 131,
   "id": "f27aa513",
   "metadata": {},
   "outputs": [],
   "source": [
    "svc_model = Pipeline([(\"classifier\", svc_classifier)])"
   ]
  },
  {
   "cell_type": "code",
   "execution_count": 132,
   "id": "6a26d64f",
   "metadata": {},
   "outputs": [
    {
     "data": {
      "text/html": [
       "<style>#sk-container-id-2 {color: black;}#sk-container-id-2 pre{padding: 0;}#sk-container-id-2 div.sk-toggleable {background-color: white;}#sk-container-id-2 label.sk-toggleable__label {cursor: pointer;display: block;width: 100%;margin-bottom: 0;padding: 0.3em;box-sizing: border-box;text-align: center;}#sk-container-id-2 label.sk-toggleable__label-arrow:before {content: \"▸\";float: left;margin-right: 0.25em;color: #696969;}#sk-container-id-2 label.sk-toggleable__label-arrow:hover:before {color: black;}#sk-container-id-2 div.sk-estimator:hover label.sk-toggleable__label-arrow:before {color: black;}#sk-container-id-2 div.sk-toggleable__content {max-height: 0;max-width: 0;overflow: hidden;text-align: left;background-color: #f0f8ff;}#sk-container-id-2 div.sk-toggleable__content pre {margin: 0.2em;color: black;border-radius: 0.25em;background-color: #f0f8ff;}#sk-container-id-2 input.sk-toggleable__control:checked~div.sk-toggleable__content {max-height: 200px;max-width: 100%;overflow: auto;}#sk-container-id-2 input.sk-toggleable__control:checked~label.sk-toggleable__label-arrow:before {content: \"▾\";}#sk-container-id-2 div.sk-estimator input.sk-toggleable__control:checked~label.sk-toggleable__label {background-color: #d4ebff;}#sk-container-id-2 div.sk-label input.sk-toggleable__control:checked~label.sk-toggleable__label {background-color: #d4ebff;}#sk-container-id-2 input.sk-hidden--visually {border: 0;clip: rect(1px 1px 1px 1px);clip: rect(1px, 1px, 1px, 1px);height: 1px;margin: -1px;overflow: hidden;padding: 0;position: absolute;width: 1px;}#sk-container-id-2 div.sk-estimator {font-family: monospace;background-color: #f0f8ff;border: 1px dotted black;border-radius: 0.25em;box-sizing: border-box;margin-bottom: 0.5em;}#sk-container-id-2 div.sk-estimator:hover {background-color: #d4ebff;}#sk-container-id-2 div.sk-parallel-item::after {content: \"\";width: 100%;border-bottom: 1px solid gray;flex-grow: 1;}#sk-container-id-2 div.sk-label:hover label.sk-toggleable__label {background-color: #d4ebff;}#sk-container-id-2 div.sk-serial::before {content: \"\";position: absolute;border-left: 1px solid gray;box-sizing: border-box;top: 0;bottom: 0;left: 50%;z-index: 0;}#sk-container-id-2 div.sk-serial {display: flex;flex-direction: column;align-items: center;background-color: white;padding-right: 0.2em;padding-left: 0.2em;position: relative;}#sk-container-id-2 div.sk-item {position: relative;z-index: 1;}#sk-container-id-2 div.sk-parallel {display: flex;align-items: stretch;justify-content: center;background-color: white;position: relative;}#sk-container-id-2 div.sk-item::before, #sk-container-id-2 div.sk-parallel-item::before {content: \"\";position: absolute;border-left: 1px solid gray;box-sizing: border-box;top: 0;bottom: 0;left: 50%;z-index: -1;}#sk-container-id-2 div.sk-parallel-item {display: flex;flex-direction: column;z-index: 1;position: relative;background-color: white;}#sk-container-id-2 div.sk-parallel-item:first-child::after {align-self: flex-end;width: 50%;}#sk-container-id-2 div.sk-parallel-item:last-child::after {align-self: flex-start;width: 50%;}#sk-container-id-2 div.sk-parallel-item:only-child::after {width: 0;}#sk-container-id-2 div.sk-dashed-wrapped {border: 1px dashed gray;margin: 0 0.4em 0.5em 0.4em;box-sizing: border-box;padding-bottom: 0.4em;background-color: white;}#sk-container-id-2 div.sk-label label {font-family: monospace;font-weight: bold;display: inline-block;line-height: 1.2em;}#sk-container-id-2 div.sk-label-container {text-align: center;}#sk-container-id-2 div.sk-container {/* jupyter's `normalize.less` sets `[hidden] { display: none; }` but bootstrap.min.css set `[hidden] { display: none !important; }` so we also need the `!important` here to be able to override the default hidden behavior on the sphinx rendered scikit-learn.org. See: https://github.com/scikit-learn/scikit-learn/issues/21755 */display: inline-block !important;position: relative;}#sk-container-id-2 div.sk-text-repr-fallback {display: none;}</style><div id=\"sk-container-id-2\" class=\"sk-top-container\"><div class=\"sk-text-repr-fallback\"><pre>Pipeline(steps=[(&#x27;classifier&#x27;,\n",
       "                 SVC(class_weight={0: 33.00108225108225, 1: 12.456290849673202,\n",
       "                                   2: 16.76492302858938, 3: 7.909107751593301,\n",
       "                                   4: 3.541227022363793, 5: 7.653865461847389,\n",
       "                                   6: 6.274279835390947, 7: 0.1428228269218931,\n",
       "                                   8: 23.343285214348207, 9: 81.97043010752688,\n",
       "                                   10: 0.28516710486939423,\n",
       "                                   11: 1.7621937124364309},\n",
       "                     gamma=&#x27;auto&#x27;))])</pre><b>In a Jupyter environment, please rerun this cell to show the HTML representation or trust the notebook. <br />On GitHub, the HTML representation is unable to render, please try loading this page with nbviewer.org.</b></div><div class=\"sk-container\" hidden><div class=\"sk-item sk-dashed-wrapped\"><div class=\"sk-label-container\"><div class=\"sk-label sk-toggleable\"><input class=\"sk-toggleable__control sk-hidden--visually\" id=\"sk-estimator-id-6\" type=\"checkbox\" ><label for=\"sk-estimator-id-6\" class=\"sk-toggleable__label sk-toggleable__label-arrow\">Pipeline</label><div class=\"sk-toggleable__content\"><pre>Pipeline(steps=[(&#x27;classifier&#x27;,\n",
       "                 SVC(class_weight={0: 33.00108225108225, 1: 12.456290849673202,\n",
       "                                   2: 16.76492302858938, 3: 7.909107751593301,\n",
       "                                   4: 3.541227022363793, 5: 7.653865461847389,\n",
       "                                   6: 6.274279835390947, 7: 0.1428228269218931,\n",
       "                                   8: 23.343285214348207, 9: 81.97043010752688,\n",
       "                                   10: 0.28516710486939423,\n",
       "                                   11: 1.7621937124364309},\n",
       "                     gamma=&#x27;auto&#x27;))])</pre></div></div></div><div class=\"sk-serial\"><div class=\"sk-item\"><div class=\"sk-estimator sk-toggleable\"><input class=\"sk-toggleable__control sk-hidden--visually\" id=\"sk-estimator-id-7\" type=\"checkbox\" ><label for=\"sk-estimator-id-7\" class=\"sk-toggleable__label sk-toggleable__label-arrow\">SVC</label><div class=\"sk-toggleable__content\"><pre>SVC(class_weight={0: 33.00108225108225, 1: 12.456290849673202,\n",
       "                  2: 16.76492302858938, 3: 7.909107751593301,\n",
       "                  4: 3.541227022363793, 5: 7.653865461847389,\n",
       "                  6: 6.274279835390947, 7: 0.1428228269218931,\n",
       "                  8: 23.343285214348207, 9: 81.97043010752688,\n",
       "                  10: 0.28516710486939423, 11: 1.7621937124364309},\n",
       "    gamma=&#x27;auto&#x27;)</pre></div></div></div></div></div></div></div>"
      ],
      "text/plain": [
       "Pipeline(steps=[('classifier',\n",
       "                 SVC(class_weight={0: 33.00108225108225, 1: 12.456290849673202,\n",
       "                                   2: 16.76492302858938, 3: 7.909107751593301,\n",
       "                                   4: 3.541227022363793, 5: 7.653865461847389,\n",
       "                                   6: 6.274279835390947, 7: 0.1428228269218931,\n",
       "                                   8: 23.343285214348207, 9: 81.97043010752688,\n",
       "                                   10: 0.28516710486939423,\n",
       "                                   11: 1.7621937124364309},\n",
       "                     gamma='auto'))])"
      ]
     },
     "execution_count": 132,
     "metadata": {},
     "output_type": "execute_result"
    }
   ],
   "source": [
    "svc_model.fit(X_train, y_train)"
   ]
  },
  {
   "cell_type": "code",
   "execution_count": 133,
   "id": "528c3b20",
   "metadata": {},
   "outputs": [
    {
     "data": {
      "text/plain": [
       "['./svc_model.joblib']"
      ]
     },
     "execution_count": 133,
     "metadata": {},
     "output_type": "execute_result"
    }
   ],
   "source": [
    "joblib.dump(svc_model, os.path.join(data_dir, \"svc_model.joblib\"))"
   ]
  },
  {
   "cell_type": "markdown",
   "id": "9470751e",
   "metadata": {},
   "source": [
    "## Evaluation"
   ]
  },
  {
   "cell_type": "code",
   "execution_count": 134,
   "id": "18fa2e67",
   "metadata": {},
   "outputs": [
    {
     "data": {
      "text/plain": [
       "0.9672530509943548"
      ]
     },
     "execution_count": 134,
     "metadata": {},
     "output_type": "execute_result"
    }
   ],
   "source": [
    "svc_model.score(X_test, y_test)"
   ]
  },
  {
   "cell_type": "code",
   "execution_count": 135,
   "id": "0838fd4f",
   "metadata": {},
   "outputs": [],
   "source": [
    "y_pred = svc_model.predict(X_test)"
   ]
  },
  {
   "cell_type": "code",
   "execution_count": 139,
   "id": "b7ab7241",
   "metadata": {
    "scrolled": true
   },
   "outputs": [
    {
     "name": "stdout",
     "output_type": "stream",
     "text": [
      "              precision    recall  f1-score   support\n",
      "\n",
      "         NDF       0.99      1.00      1.00     24909\n",
      "          US       0.94      0.95      0.95     12475\n",
      "       other       0.72      0.62      0.67      2019\n",
      "          FR       1.00      1.00      1.00      1005\n",
      "          CA       1.00      1.00      1.00       286\n",
      "          GB       1.00      1.00      1.00       465\n",
      "          ES       1.00      1.00      1.00       450\n",
      "          IT       1.00      1.00      1.00       567\n",
      "          PT       1.00      1.00      1.00        43\n",
      "          NL       1.00      1.00      1.00       152\n",
      "          DE       1.00      1.00      1.00       212\n",
      "          AU       1.00      1.00      1.00       108\n",
      "\n",
      "    accuracy                           0.97     42691\n",
      "   macro avg       0.97      0.96      0.97     42691\n",
      "weighted avg       0.97      0.97      0.97     42691\n",
      "\n"
     ]
    }
   ],
   "source": [
    "print(classification_report(y_test, y_pred, target_names=list(class2id.keys())))"
   ]
  },
  {
   "cell_type": "markdown",
   "id": "6acd8388",
   "metadata": {},
   "source": [
    "## Prediction"
   ]
  },
  {
   "cell_type": "code",
   "execution_count": 189,
   "id": "ed474639",
   "metadata": {},
   "outputs": [],
   "source": [
    "# Load all the saved model, imputer and encoder\n",
    "\n",
    "loaded_numerical_imp = joblib.load(os.path.join(data_dir, \"numerical_imp.joblib\"))\n",
    "loaded_categorical_imp = joblib.load(os.path.join(data_dir, \"categorical_imp.joblib\"))\n",
    "                                     "
   ]
  },
  {
   "cell_type": "code",
   "execution_count": 190,
   "id": "b4a81603",
   "metadata": {},
   "outputs": [],
   "source": [
    "loaded_transformer = joblib.load(os.path.join(data_dir, \"transformer.joblib\"))\n",
    "loaded_model = joblib.load(os.path.join(data_dir, \"svc_model.joblib\"))"
   ]
  },
  {
   "cell_type": "code",
   "execution_count": 240,
   "id": "a08f3169",
   "metadata": {},
   "outputs": [],
   "source": [
    "def classify(data, n_data):\n",
    "    if n_data == 1:\n",
    "        df = pd.DataFrame(data, index=[0])\n",
    "    else:\n",
    "         df = pd.DataFrame(data)\n",
    "    numerical_imp_df = loaded_numerical_imp.transform(df[numerical_cols])\n",
    "    for index, col in enumerate(numerical_cols):\n",
    "        df[col] = numerical_imp_df[:, index]\n",
    "    \n",
    "    categorical_imp_df = loaded_categorical_imp.transform(df[categorical_cols])\n",
    "    for index, col in enumerate(categorical_cols):\n",
    "        df[col] = categorical_imp_df[:, index]\n",
    "    \n",
    "    x = loaded_transformer.transform(df)\n",
    "    predictions = loaded_model.predict(x)\n",
    "    results = []\n",
    "    for i in range(len(predictions)):\n",
    "        pred = predictions[i]\n",
    "        results.append(id2class[pred])\n",
    "    \n",
    "    return results"
   ]
  },
  {
   "cell_type": "code",
   "execution_count": 241,
   "id": "01364694",
   "metadata": {},
   "outputs": [
    {
     "name": "stdout",
     "output_type": "stream",
     "text": [
      "['NDF'] NDF\n"
     ]
    }
   ],
   "source": [
    "i = 1290\n",
    "row = merged_df.iloc[i]\n",
    "true_label = id2class[y[i]]\n",
    "row = row[final_columns]\n",
    "print(classify(row.to_dict(), 1), true_label)"
   ]
  }
 ],
 "metadata": {
  "kernelspec": {
   "display_name": "Python 3 (ipykernel)",
   "language": "python",
   "name": "python3"
  },
  "language_info": {
   "codemirror_mode": {
    "name": "ipython",
    "version": 3
   },
   "file_extension": ".py",
   "mimetype": "text/x-python",
   "name": "python",
   "nbconvert_exporter": "python",
   "pygments_lexer": "ipython3",
   "version": "3.10.13"
  }
 },
 "nbformat": 4,
 "nbformat_minor": 5
}
